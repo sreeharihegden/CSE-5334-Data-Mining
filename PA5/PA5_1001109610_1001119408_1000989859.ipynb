{
 "cells": [
  {
   "cell_type": "markdown",
   "metadata": {},
   "source": [
    "#Programming Assignment 5: Building a Movie Recommendation System"
   ]
  },
  {
   "cell_type": "markdown",
   "metadata": {},
   "source": [
    "###Team Details:\n",
    "\n",
    "When submitting, fill your team details in this cell. Note that this is a markdown cell.\n",
    "\n",
    "**Student 1 Full Name:** Sreehari Balakrishna Hegden\n",
    "**Student 1 Student ID:** 1001109610\n",
    "**Student 1 Email Address:** sreehari.hegden@mavs.uta.edu\n",
    "\n",
    "**Student 2 Full Name:** Sumesh Nellemakkal Balan\n",
    "**Student 2 Student ID:** 1001119408\n",
    "**Student 2 Email Address:** sumesh.nellemakkalbalan@mavs.uta.edu  \n",
    "\n",
    "**Student 3 Full Name:** Divya Maria Jose\n",
    "**Student 3 Student ID:** 1000989859\n",
    "**Student 3 Email Address:** divya.jose@mavs.uta.edu"
   ]
  },
  {
   "cell_type": "markdown",
   "metadata": {},
   "source": [
    "##Assignment Details\n",
    "\n",
    "In this assignment, we will explore some of the fundamental concepts in building a recommendation systems for movies. This assignment material is inspired by code from a number of resources including those from Hanspeter Pfister, YHat, Sudeep Das, Jonny and others. At a high level, you will be doing the following tasks:\n",
    "\n",
    "### 1. Exploratory Analysis/Sparsity\n",
    "\n",
    "Before building the actual recommender, we will explore the movie dataset and see how ratings are distributed across different dimensions and how the sparse the overall dataset is. These factors (long tail/sparsity) cause lot of issues when building a recommender.\n",
    "\n",
    "### 2. Nearest Neighbor based Recommender System\n",
    "\n",
    "We will start with a simple nearest neighbor based recommender system. Given a movie, we will try to find the top-$k$ most similar movies. We will just provide the list of movies without predicting the ratings.\n",
    "\n",
    "### 3. Item based Collaborative Filtering\n",
    "\n",
    "In this task, we will try to predict the ratings also. We will use item based collaborative filtering that computes similarity between movies and use them for recommendation.\n",
    "\n",
    "### 4. User based Collaborative Filtering\n",
    "\n",
    "In this task, we will design a user based collaborative filtering that is very similar to the recommender you designed in Task 3.\n",
    "\n",
    "### 5. Latent Factor Models\n",
    "\n",
    "In this task, we will explore couple of advanced models involving latent factors."
   ]
  },
  {
   "cell_type": "code",
   "execution_count": 33,
   "metadata": {
    "collapsed": false
   },
   "outputs": [],
   "source": [
    "########### Do not change anything below\n",
    "\n",
    "%matplotlib inline \n",
    "\n",
    "#Array processing\n",
    "import numpy as np\n",
    "\n",
    "#Data analysis, wrangling and common exploratory operations\n",
    "import pandas as pd\n",
    "from pandas import Series, DataFrame\n",
    "from IPython.display import display\n",
    "\n",
    "#For visualization. Matplotlib for basic viz and seaborn for more stylish figures + statistical figures not in MPL.\n",
    "import matplotlib.pyplot as plt\n",
    "import seaborn as sns\n",
    "\n",
    "\n",
    "import scipy as sp\n",
    "#SVD for Sparse matrices\n",
    "from scipy.sparse.linalg import svds\n",
    "\n",
    "from sklearn.metrics.pairwise import euclidean_distances\n",
    "\n",
    "try:\n",
    "   import cPickle as pickle\n",
    "except:\n",
    "   import pickle\n",
    "\n",
    "from collections import defaultdict, Counter\n",
    "import operator\n",
    "\n",
    "from matplotlib import rcParams\n",
    "rcParams['figure.figsize'] = (10, 6)\n",
    "\n",
    "########################If needed you can import additional packages for helping you, although I would discourage it\n",
    "########################Put all your imports in the space below. If you use some strange package, \n",
    "##########################provide clear information as to how we can install it.\n",
    "\n",
    "#######################End imports###################################"
   ]
  },
  {
   "cell_type": "markdown",
   "metadata": {},
   "source": [
    "# Part 1: Exploratory Analysis/Sparsity"
   ]
  },
  {
   "cell_type": "markdown",
   "metadata": {},
   "source": [
    "**Dataset:** We will be using the MovieLens 100K dataset. It is a fairly small dataset with 100K ratings from 1000 users on 1700 movies. You can download the dataset from http://grouplens.org/datasets/movielens/ . Some basic details about the dataset can be found in the README text file at http://files.grouplens.org/datasets/movielens/ml-100k-README.txt . You will need to understand the structure before doing the experiments. Download and unzip the file in the same folder as the IPython notebook. The rest of the code assumes that there is a folder called \"ml-100k\" in the current directory.\n",
    "\n"
   ]
  },
  {
   "cell_type": "code",
   "execution_count": 34,
   "metadata": {
    "collapsed": false
   },
   "outputs": [
    {
     "data": {
      "text/html": [
       "<div style=\"max-height:1000px;max-width:1500px;overflow:auto;\">\n",
       "<table border=\"1\" class=\"dataframe\">\n",
       "  <thead>\n",
       "    <tr style=\"text-align: right;\">\n",
       "      <th></th>\n",
       "      <th>MovieId</th>\n",
       "      <th>Title</th>\n",
       "      <th>UserId</th>\n",
       "      <th>Rating</th>\n",
       "      <th>Age</th>\n",
       "      <th>Gender</th>\n",
       "      <th>Occupation</th>\n",
       "      <th>ZipCode</th>\n",
       "    </tr>\n",
       "  </thead>\n",
       "  <tbody>\n",
       "    <tr>\n",
       "      <th>0</th>\n",
       "      <td>1</td>\n",
       "      <td>Toy Story (1995)</td>\n",
       "      <td>308</td>\n",
       "      <td>4</td>\n",
       "      <td>60</td>\n",
       "      <td>M</td>\n",
       "      <td>retired</td>\n",
       "      <td>95076</td>\n",
       "    </tr>\n",
       "    <tr>\n",
       "      <th>1</th>\n",
       "      <td>4</td>\n",
       "      <td>Get Shorty (1995)</td>\n",
       "      <td>308</td>\n",
       "      <td>5</td>\n",
       "      <td>60</td>\n",
       "      <td>M</td>\n",
       "      <td>retired</td>\n",
       "      <td>95076</td>\n",
       "    </tr>\n",
       "    <tr>\n",
       "      <th>2</th>\n",
       "      <td>5</td>\n",
       "      <td>Copycat (1995)</td>\n",
       "      <td>308</td>\n",
       "      <td>4</td>\n",
       "      <td>60</td>\n",
       "      <td>M</td>\n",
       "      <td>retired</td>\n",
       "      <td>95076</td>\n",
       "    </tr>\n",
       "    <tr>\n",
       "      <th>3</th>\n",
       "      <td>7</td>\n",
       "      <td>Twelve Monkeys (1995)</td>\n",
       "      <td>308</td>\n",
       "      <td>4</td>\n",
       "      <td>60</td>\n",
       "      <td>M</td>\n",
       "      <td>retired</td>\n",
       "      <td>95076</td>\n",
       "    </tr>\n",
       "    <tr>\n",
       "      <th>4</th>\n",
       "      <td>8</td>\n",
       "      <td>Babe (1995)</td>\n",
       "      <td>308</td>\n",
       "      <td>5</td>\n",
       "      <td>60</td>\n",
       "      <td>M</td>\n",
       "      <td>retired</td>\n",
       "      <td>95076</td>\n",
       "    </tr>\n",
       "  </tbody>\n",
       "</table>\n",
       "</div>"
      ],
      "text/plain": [
       "   MovieId                  Title  UserId  Rating  Age Gender Occupation  \\\n",
       "0        1       Toy Story (1995)     308       4   60      M    retired   \n",
       "1        4      Get Shorty (1995)     308       5   60      M    retired   \n",
       "2        5         Copycat (1995)     308       4   60      M    retired   \n",
       "3        7  Twelve Monkeys (1995)     308       4   60      M    retired   \n",
       "4        8            Babe (1995)     308       5   60      M    retired   \n",
       "\n",
       "  ZipCode  \n",
       "0   95076  \n",
       "1   95076  \n",
       "2   95076  \n",
       "3   95076  \n",
       "4   95076  "
      ]
     },
     "execution_count": 34,
     "metadata": {},
     "output_type": "execute_result"
    }
   ],
   "source": [
    "#####Do not change anything below\n",
    "\n",
    "#Load the user data\n",
    "users_df = pd.read_csv('ml-100k/u.user', sep='|', names=['UserId', 'Age', 'Gender', 'Occupation', 'ZipCode'])\n",
    "#Load the movies data: we will only use movie id and title for this assignment\n",
    "movies_df = pd.read_csv('ml-100k/u.item', sep='|', names=['MovieId', 'Title'], usecols=range(2))\n",
    "#Load the ratings data: ignore the timestamps\n",
    "ratings_df = pd.read_csv('ml-100k/u.data', sep='\\t', names=['UserId', 'MovieId', 'Rating'],usecols=range(3))\n",
    "\n",
    "#Working on three different data frames is a pain\n",
    "# Let us create a single dataset by \"joining\" these three data frames\n",
    "movie_ratings_df = pd.merge(movies_df, ratings_df)\n",
    "movielens_df = pd.merge(movie_ratings_df, users_df)\n",
    "\n",
    "movielens_df.head()"
   ]
  },
  {
   "cell_type": "code",
   "execution_count": 93,
   "metadata": {
    "collapsed": false
   },
   "outputs": [
    {
     "name": "stdout",
     "output_type": "stream",
     "text": [
      "                               Rating\n",
      "Title                                \n",
      "Star Wars (1977)                  583\n",
      "Contact (1997)                    509\n",
      "Fargo (1996)                      508\n",
      "Return of the Jedi (1983)         507\n",
      "Liar Liar (1997)                  485\n",
      "English Patient, The (1996)       481\n",
      "Scream (1996)                     478\n",
      "Toy Story (1995)                  452\n",
      "Air Force One (1997)              431\n",
      "Independence Day (ID4) (1996)     429\n"
     ]
    }
   ],
   "source": [
    "#Task t1a: Print the NAME of the top-10 movies with most ratings\n",
    "# print movielens_df.sort('Rating', ascending=False)[:10]['Title']\n",
    "movielens_df_groupby_Title = DataFrame(movielens_df.groupby(['Title']).Rating.count())\n",
    "print movielens_df_groupby_Title.sort(columns=['Rating'], ascending=False)[:10]"
   ]
  },
  {
   "cell_type": "code",
   "execution_count": 104,
   "metadata": {
    "collapsed": false
   },
   "outputs": [
    {
     "data": {
      "text/plain": [
       "<matplotlib.text.Text at 0x22f81160>"
      ]
     },
     "execution_count": 104,
     "metadata": {},
     "output_type": "execute_result"
    },
    {
     "data": {
      "image/png": "[encoded data removed]",
      "text/plain": [
       "<matplotlib.figure.Figure at 0x1f706668>"
      ]
     },
     "metadata": {},
     "output_type": "display_data"
    }
   ],
   "source": [
    "#Task t1b: Let us now analyze the rating behavior of the 1000 users in the dataset\n",
    "#  Create a histogram based on the number of ratings per user with 50 bins. \n",
    "# Title=\"Count of Ratings per User\", XLabel=\"Ratings per user\", YLabel=\"#Users\"\n",
    "\n",
    "#t1b_user_rating_count is a groupby object that counts the number of ratings for each user.\n",
    "t1b_user_rating_count = DataFrame(movielens_df.groupby(['UserId']).Rating.count())\n",
    "# t1b_user_rating_count.columns = ['Ratings per user']\n",
    "# print t1b_user_rating_count\n",
    "\n",
    "figObj1b = t1b_user_rating_count.hist(bins = 50)\n",
    "plt.title('Count of Ratings per User')\n",
    "plt.xlabel('Ratings per user')\n",
    "plt.ylabel('#Users')\n",
    "\n",
    "####The figure below shows that most users leave less than 25 ratings while few outliers leave a lot of ratings"
   ]
  },
  {
   "cell_type": "code",
   "execution_count": 106,
   "metadata": {
    "collapsed": false
   },
   "outputs": [
    {
     "data": {
      "text/plain": [
       "<matplotlib.text.Text at 0x250ac2e8>"
      ]
     },
     "execution_count": 106,
     "metadata": {},
     "output_type": "execute_result"
    },
    {
     "data": {
      "image/png": "[encoded data removed]",
      "text/plain": [
       "<matplotlib.figure.Figure at 0x237e0978>"
      ]
     },
     "metadata": {},
     "output_type": "display_data"
    }
   ],
   "source": [
    "#Task t1c: Let us now analyze the rating behavior of the 1000 users in the dataset\n",
    "#  Create a histogram based on the number of ratings per movie with 50 bins. \n",
    "# Title=\"Count of Ratings per Movie\", XLabel=\"Ratings per Movie\", YLabel=\"#Movies\"\n",
    "\n",
    "#t1c_user_rating_count is a groupby object that counts the number of ratings for each movie.\n",
    "t1c_user_rating_count = DataFrame(movielens_df.groupby(['Title']).Rating.count())\n",
    "\n",
    "figObj1c = t1c_user_rating_count.hist(bins = 50)\n",
    "plt.title('Count of Ratings per Movie')\n",
    "plt.xlabel('Ratings per Movie')\n",
    "plt.ylabel('#Movies')\n",
    "\n",
    "####The figure below shows that most movies receive less than 25 ratings while few popular get a lot of ratings"
   ]
  },
  {
   "cell_type": "code",
   "execution_count": 232,
   "metadata": {
    "collapsed": false
   },
   "outputs": [
    {
     "name": "stdout",
     "output_type": "stream",
     "text": [
      "Average rating of ALL movies is 3.53\n"
     ]
    },
    {
     "data": {
      "image/png": "[encoded data removed]",
      "text/plain": [
       "<matplotlib.figure.Figure at 0x20e2d668>"
      ]
     },
     "metadata": {},
     "output_type": "display_data"
    }
   ],
   "source": [
    "#Task t1d: Let us now analyze the rating distribution\n",
    "#  Create a histogram based on the ratings received for each movie with 5 bins. \n",
    "# Title=\"Ratings Histogram\", XLabel=\"Rating Provided\", YLabel=\"#Ratings\"\n",
    "\n",
    "t1d_user_rating_count = movielens_df['Rating']\n",
    "# print t1d_user_rating_count\n",
    "\n",
    "figObj1d = t1d_user_rating_count.hist(bins = 5)\n",
    "plt.title('Ratings Histogram')\n",
    "plt.xlabel('Rating Provided')\n",
    "plt.ylabel('#Ratings')\n",
    "\n",
    "####The figure below shows that most movies at least 35K of ratings provided a score of 4 or higher.\n",
    "#The code below shows that the average rating is 3.5\n",
    "# This is problematic because each user has a different rating scale\n",
    "# For some users 1 is a bad movie while for some others 3 is bad\n",
    "# So a good model must take into the account the baseline rating behavior of users and movies\n",
    "\n",
    "print \"Average rating of ALL movies is\", round(movielens_df.Rating.mean(),2)"
   ]
  },
  {
   "cell_type": "code",
   "execution_count": 203,
   "metadata": {
    "collapsed": false
   },
   "outputs": [
    {
     "data": {
      "text/plain": [
       "<matplotlib.text.Text at 0x21266828>"
      ]
     },
     "execution_count": 203,
     "metadata": {},
     "output_type": "execute_result"
    },
    {
     "data": {
      "image/png": "[encoded data removed]",
      "text/plain": [
       "<matplotlib.figure.Figure at 0x2230fc18>"
      ]
     },
     "metadata": {},
     "output_type": "display_data"
    }
   ],
   "source": [
    "#Task t1e: Let us now study the baseline rating behavior in more detail\n",
    "# For each user compute his/her average rating\n",
    "#  Create a histogram based on the average ratings with 5 bins. \n",
    "# Title=\"Histogram of Average Ratings of Users\", XLabel=\"Average Rating\", YLabel=\"#Users\"\n",
    "\n",
    "#t1e_avg_ratings is a groupby object with average rating for each user\n",
    "t1e_avg_ratings = DataFrame(movielens_df.groupby(['UserId']).Rating.mean())\n",
    "\n",
    "figObj1e = t1e_avg_ratings.hist(bins = 5)\n",
    "plt.title('Histogram of Average Ratings of Users')\n",
    "plt.xlabel('Average Rating')\n",
    "plt.ylabel('#Users')\n",
    "\n",
    "####The figure below shows that while the average rating of users vary\n",
    "# What does this imply?\n",
    "\n"
   ]
  },
  {
   "cell_type": "code",
   "execution_count": 219,
   "metadata": {
    "collapsed": false
   },
   "outputs": [
    {
     "data": {
      "text/plain": [
       "<matplotlib.text.Text at 0x1f9c6518>"
      ]
     },
     "execution_count": 219,
     "metadata": {},
     "output_type": "execute_result"
    },
    {
     "data": {
      "image/png": "[encoded data removed]",
      "text/plain": [
       "<matplotlib.figure.Figure at 0x228d85f8>"
      ]
     },
     "metadata": {},
     "output_type": "display_data"
    }
   ],
   "source": [
    "#Task t1f: Let us now study the baseline rating behavior in more detail\n",
    "# For each movie compute its average rating\n",
    "#  Create a histogram based on the average ratings with 5 bins. \n",
    "# Title=\"Histogram of Average Ratings of Movies\", XLabel=\"Average Rating\", YLabel=\"#Movies\"\n",
    "\n",
    "#t1e_avg_ratings is a groupby object with average rating for each user\n",
    "t1f_avg_ratings = DataFrame(movielens_df.groupby(['Title']).Rating.mean())\n",
    "\n",
    "figObj1f = t1f_avg_ratings.hist(bins = 5)\n",
    "plt.title('Histogram of Average Ratings of Movies')\n",
    "plt.xlabel('Average Rating')\n",
    "plt.ylabel('#Movies')\n",
    "\n",
    "\n",
    "####The figure below shows that while the average rating of movies vary\n",
    "# What does this imply?\n",
    "\n"
   ]
  },
  {
   "cell_type": "markdown",
   "metadata": {},
   "source": [
    "**Common Support**: The concept of common support is a key idea is recommender systems. Given two items (movies in our case), the common support is the number of reviewers who rated both items. It is useful in both K-nearest neighbor and collaborative filtering based recommenders. Specifically, if the common support is 0 for a pair of movies, then it is quite hard to find their similarity!"
   ]
  },
  {
   "cell_type": "code",
   "execution_count": 265,
   "metadata": {
    "collapsed": false
   },
   "outputs": [
    {
     "name": "stdout",
     "output_type": "stream",
     "text": [
      "452\n",
      "131\n",
      "104\n"
     ]
    }
   ],
   "source": [
    "movielens_df_groupby_Title = DataFrame(movielens_df.groupby(['MovieId', 'UserId']).Rating.count())\n",
    "c1 = movielens_df[movielens_df.MovieId.isin([1])]\n",
    "c2 = movielens_df[movielens_df.MovieId.isin([2])]\n",
    "# print movielens_df_groupby_Title\n",
    "print c1.UserId.count()\n",
    "print c2.UserId.count()\n",
    "count = 0\n",
    "for i in c1.UserId:\n",
    "    for j in c2.UserId:\n",
    "        if i == j:\n",
    "            count+=1\n",
    "\n",
    "print count"
   ]
  },
  {
   "cell_type": "code",
   "execution_count": 73,
   "metadata": {
    "collapsed": false
   },
   "outputs": [
    {
     "name": "stdout",
     "output_type": "stream",
     "text": [
      "[104, 78, 34, 149, 90, 50, 57, 37, 21, 51, 14, 6, 7, 9, 2, 281, 94, 73, 144, 67, 15, 154, 62, 38, 108, 39, 7, 123, 201, 55, 50, 105, 46, 12, 192, 109, 61, 22, 19, 37, 7, 11, 62, 36, 50, 160, 88, 52, 134, 58, 8, 175, 110, 116, 35, 168, 88, 53, 141, 60, 14, 183, 127, 140, 43, 159, 135, 39, 41, 81, 28, 17, 132, 71, 101, 48, 77, 90, 111, 24, 32, 58, 16, 18, 100, 63, 106, 45, 53, 76, 89, 221, 53, 53, 90, 43, 10, 165, 105, 155, 35, 97, 105, 96, 91, 33, 9, 13, 15, 6, 4, 27, 14, 23, 16, 15, 17, 25, 24, 22, 63, 51, 38, 61, 38, 4, 80, 37, 39, 17, 65, 63, 28, 17, 31, 6, 5, 4, 4, 5, 3, 4, 6, 5, 8, 5, 5, 7, 7, 9, 7, 2, 2, 39, 5, 11, 21, 7, 10, 41, 23, 43, 24, 17, 30, 38, 51, 34, 13, 5, 6, 49, 11, 17, 29, 7, 10, 52, 33, 47, 34, 32, 37, 44, 49, 39, 17, 10, 6, 29, 72, 32, 24, 39, 19, 5, 63, 40, 44, 18, 36, 35, 36, 27, 53, 10, 22, 3, 9, 12, 195, 98, 51, 148, 55, 8, 179, 142, 129, 39, 178, 168, 83, 68, 126, 16, 67, 6, 29, 34, 49, 103, 49, 33, 92, 37, 12, 112, 81, 94, 30, 96, 119, 65, 55, 67, 10, 34, 7, 21, 25, 26, 109, 141, 68, 48, 82, 33, 12, 140, 67, 77, 28, 89, 95, 56, 45, 83, 13, 48, 5, 21, 30, 39, 97, 53, 223, 67, 62, 115, 46, 11, 198, 110, 144, 48, 120, 124, 116, 88, 168, 27, 52, 8, 34, 41, 49, 125, 81, 93, 44, 23, 19, 49, 21, 8, 43, 39, 35, 20, 44, 54, 40, 37, 40, 6, 20, 3, 14, 18, 10, 43, 37, 23, 45, 38, 38, 18, 44, 21, 4, 47, 25, 24, 11, 50, 40, 15, 12, 23, 5, 36, 2, 3, 9, 16, 49, 28, 33, 31, 10, 207, 95, 46, 134, 55, 9, 165, 139, 124, 42, 144, 155, 77, 67, 128, 15, 56, 4, 19, 29, 50, 181, 110, 86, 133, 49, 37, 85, 75, 28, 75, 35, 5, 77, 59, 44, 17, 77, 70, 31, 21, 51, 7, 44, 2, 4, 12, 28, 88, 43, 54, 58, 20, 35, 80, 22, 8, 9, 21, 10, 6, 23, 21, 24, 14, 19, 23, 19, 20, 16, 9, 6, 6, 10, 12, 8, 21, 22, 13, 17, 12, 5, 23, 8, 116, 70, 32, 91, 40, 8, 107, 82, 82, 25, 100, 114, 50, 34, 78, 9, 49, 3, 12, 18, 32, 123, 64, 64, 86, 30, 34, 116, 57, 13, 59, 23, 17, 49, 17, 6, 65, 45, 44, 21, 48, 61, 42, 32, 28, 9, 21, 5, 17, 22, 13, 55, 54, 38, 39, 19, 14, 48, 20, 17, 29, 66, 59, 35, 70, 31, 4, 72, 47, 42, 15, 70, 73, 29, 21, 37, 6, 43, 4, 6, 11, 20, 77, 45, 52, 49, 27, 33, 60, 47, 7, 51, 22, 6, 3, 4, 6, 3, 1, 7, 4, 5, 1, 7, 5, 5, 4, 3, 2, 6, 1, 1, 4, 2, 7, 3, 5, 7, 2, 3, 5, 5, 1, 5, 3, 4, 9, 6, 2, 6, 2, 1, 5, 8, 2, 2, 5, 5, 4, 1, 8, 1, 2, 1, 1, 2, 3, 9, 3, 2, 4, 4, 2, 11, 6, 2, 4, 2, 3, 1, 10, 10, 3, 10, 8, 2, 9, 10, 9, 3, 11, 11, 4, 5, 11, 2, 5, 2, 2, 5, 5, 12, 7, 5, 10, 8, 7, 10, 11, 3, 10, 5, 7, 2, 2, 6, 8, 2, 7, 4, 2, 6, 6, 4, 3, 7, 8, 4, 3, 2, 2, 5, 2, 1, 2, 3, 5, 6, 6, 5, 3, 6, 5, 8, 3, 4, 7, 5, 1, 2, 3, 89, 72, 28, 80, 44, 4, 78, 63, 57, 19, 82, 76, 38, 22, 54, 5, 41, 3, 6, 10, 28, 93, 38, 52, 63, 22, 33, 82, 68, 5, 56, 13, 50, 4, 7, 9, 5, 59, 42, 26, 63, 29, 4, 66, 44, 43, 19, 66, 69, 28, 19, 31, 9, 34, 2, 7, 12, 16, 64, 46, 42, 46, 21, 26, 55, 41, 11, 41, 25, 43, 3, 3, 6, 6, 38, 44, 29, 18, 42, 21, 1, 38, 35, 29, 11, 38, 36, 25, 16, 29, 8, 25, 1, 2, 8, 19, 39, 21, 26, 43, 15, 12, 42, 28, 6, 26, 15, 22, 5, 4, 5, 4, 27, 19, 31, 23, 16, 22, 13, 1, 25, 26, 18, 4, 29, 29, 10, 6, 19, 3, 20, 1, 1, 2, 15, 30, 12, 22, 20, 11, 13, 29, 27, 4, 23, 6, 20, 4, 4, 6, 2, 26, 12, 14, 101, 56, 45, 90, 36, 9, 105, 78, 71, 33, 97, 106, 58, 41, 60, 12, 48, 7, 21, 22, 24, 97, 67, 66, 88, 32, 29, 90, 48, 16, 61, 45, 50, 6, 3, 8, 8, 48, 51, 30, 22, 32, 25, 11, 28, 15, 3, 25, 23, 24, 9, 31, 28, 17, 11, 28, 2, 9, 2, 4, 7, 13, 34, 17, 18, 25, 15, 11, 36, 24, 4, 27, 6, 18, 3, 4, 5, 2, 29, 15, 8, 10, 18, 59, 34, 20, 58, 28, 4, 55, 50, 51, 21, 54, 58, 38, 29, 44, 10, 20, 3, 9, 15, 19, 63, 39, 28, 51, 22, 14, 58, 38, 13, 48, 19, 21, 5, 5, 7, 3, 41, 26, 24, 15, 37, 19, 49, 21, 11, 34, 15, 11, 46, 46, 41, 26, 34, 49, 33, 44, 31, 11, 14, 6, 22, 21, 10, 45, 34, 28, 40, 22, 12, 40, 13, 20, 22, 27, 15, 2, 2, 6, 5, 17, 17, 8, 3, 33, 7, 15, 16, 15, 9, 23, 10, 3, 17, 18, 16, 9, 21, 24, 11, 9, 10, 1, 8, 3, 5, 6, 5, 19, 20, 13, 13, 8, 8, 21, 14, 9, 18, 12, 12, 2, 2, 5, 4, 10, 12, 6, 7, 17, 9, 11, 7, 92, 52, 33, 90, 34, 8, 91, 77, 69, 31, 81, 98, 64, 48, 60, 12, 34, 4, 16, 24, 28, 85, 70, 50, 77, 38, 21, 85, 45, 21, 52, 41, 35, 6, 3, 7, 7, 43, 47, 28, 18, 67, 17, 45, 31, 18, 77, 42, 21, 65, 27, 6, 69, 71, 63, 24, 68, 84, 43, 38, 59, 8, 26, 4, 17, 22, 15, 79, 59, 41, 61, 34, 19, 77, 25, 16, 52, 38, 32, 1, 3, 8, 5, 35, 24, 19, 10, 45, 17, 27, 31, 18, 46, 67, 45, 27, 61, 31, 2, 54, 42, 37, 17, 51, 51, 36, 25, 54, 8, 27, 2, 9, 10, 25, 54, 31, 38, 56, 26, 19, 54, 35, 9, 43, 15, 32, 3, 5, 9, 3, 39, 23, 26, 18, 36, 20, 25, 16, 9, 34, 31, 381, 123, 84, 188, 74, 19, 324, 189, 227, 69, 210, 223, 152, 130, 228, 33, 84, 6, 47, 56, 77, 261, 159, 152, 239, 56, 53, 243, 103, 31, 144, 74, 84, 7, 9, 11, 8, 104, 78, 55, 32, 130, 37, 72, 62, 23, 117, 104, 78, 61, 37, 21, 50, 24, 4, 54, 48, 52, 17, 58, 54, 28, 22, 51, 6, 26, 3, 7, 10, 18, 63, 34, 29, 52, 23, 24, 62, 38, 8, 44, 14, 27, 5, 5, 10, 5, 40, 26, 25, 15, 37, 21, 33, 14, 12, 33, 27, 31, 72, 59, 31, 16, 53, 13, 11, 61, 51, 45, 33, 49, 56, 42, 45, 34, 9, 19, 5, 15, 22, 15, 59, 46, 26, 49, 27, 13, 59, 21, 21, 40, 27, 18, 3, 2, 5, 4, 21, 22, 21, 6, 42, 8, 30, 31, 9, 48, 38, 22, 78, 29, 82, 64, 37, 87, 50, 6, 97, 58, 61, 24, 87, 85, 41, 31, 40, 6, 57, 5, 8, 19, 23, 93, 57, 53, 57, 26, 38, 82, 62, 13, 58, 27, 51, 5, 4, 9, 7, 65, 47, 25, 21, 65, 21, 40, 22, 18, 53, 38, 32, 110, 37, 36, 78, 60, 29, 66, 44, 3, 74, 58, 61, 18, 74, 78, 29, 23, 55, 3, 37, 3, 8, 12, 22, 86, 44, 39, 56, 24, 26, 82, 54, 9, 68, 17, 42, 4, 6, 10, 3, 63, 32, 23, 22, 43, 29, 44, 17, 14, 38, 35, 37, 95, 42, 26, 56, 100, 67, 42, 94, 45, 5, 114, 67, 65, 22, 106, 109, 48, 29, 54, 8, 55, 5, 13, 19, 22, 110, 67, 75, 70, 25, 37, 87, 53, 13, 70, 39, 59, 6, 2, 8, 6, 58, 52, 22, 20, 75, 18, 38, 26, 20, 61, 45, 37, 130, 34, 29, 70, 55, 243, 115, 64, 187, 80, 15, 247, 165, 163, 48, 207, 223, 112, 90, 141, 17, 86, 7, 27, 38, 52, 233, 144, 117, 161, 55, 54, 213, 98, 30, 133, 67, 91, 7, 8, 12, 8, 106, 79, 50, 35, 130, 34, 72, 57, 24, 118, 91, 70, 330, 69, 71, 121, 95, 135, 23, 10, 8, 22, 7, 6, 20, 25, 27, 12, 22, 28, 17, 27, 17, 4, 8, 3, 11, 17, 5, 23, 17, 9, 23, 14, 8, 24, 9, 7, 16, 12, 8, 5, 2, 6, 3, 9, 10, 10, 6, 22, 5, 10, 14, 8, 21, 13, 4, 32, 13, 23, 17, 12, 11, 27, 121, 62, 35, 109, 42, 10, 108, 110, 104, 33, 108, 123, 63, 56, 90, 10, 38, 5, 24, 29, 25, 128, 80, 61, 94, 45, 28, 130, 53, 19, 85, 41, 42, 5, 6, 9, 6, 61, 48, 34, 17, 76, 30, 54, 39, 17, 78, 68, 45, 160, 58, 54, 63, 59, 67, 138, 25, 43, 17, 16, 40, 10, 10, 50, 39, 45, 21, 41, 55, 37, 43, 31, 14, 13, 7, 21, 20, 12, 45, 45, 26, 30, 19, 10, 39, 16, 23, 21, 31, 19, 1, 3, 5, 7, 16, 18, 10, 4, 35, 6, 21, 32, 11, 39, 32, 16, 67, 16, 28, 25, 14, 31, 63, 15, 35, 33, 14, 11, 32, 9, 10, 40, 26, 33, 17, 32, 45, 29, 35, 22, 12, 10, 6, 17, 14, 8, 38, 33, 23, 26, 19, 8, 31, 11, 20, 17, 22, 16, 1, 3, 4, 5, 10, 18, 8, 4, 29, 6, 15, 30, 10, 30, 24, 13, 53, 12, 28, 17, 10, 22, 48, 14, 27, 55, 32, 15, 9, 33, 6, 9, 39, 29, 32, 20, 33, 41, 30, 33, 22, 12, 8, 5, 16, 19, 9, 32, 34, 26, 26, 17, 10, 30, 15, 19, 18, 27, 15, 2, 3, 5, 7, 12, 17, 7, 5, 28, 6, 16, 28, 12, 31, 27, 12, 51, 12, 27, 18, 11, 23, 46, 12, 30, 52, 45, 96, 83, 35, 83, 34, 2, 91, 68, 52, 22, 80, 73, 32, 19, 52, 8, 48, 1, 6, 13, 34, 105, 42, 58, 62, 20, 40, 89, 77, 6, 67, 21, 52, 4, 4, 6, 6, 73, 43, 29, 21, 50, 28, 35, 16, 13, 44, 31, 42, 121, 38, 32, 67, 59, 66, 106, 8, 60, 15, 9, 14, 72, 45, 24, 49, 25, 1, 49, 52, 30, 13, 43, 46, 24, 12, 49, 4, 22, 1, 2, 6, 26, 58, 25, 33, 50, 19, 16, 66, 47, 6, 39, 11, 31, 3, 8, 4, 3, 48, 26, 28, 23, 38, 21, 28, 7, 7, 39, 26, 36, 78, 26, 20, 34, 36, 32, 69, 7, 41, 9, 7, 8, 50, 192, 90, 45, 136, 50, 14, 174, 138, 142, 41, 156, 177, 80, 76, 126, 16, 51, 5, 23, 33, 42, 192, 118, 86, 124, 49, 42, 175, 67, 25, 117, 55, 63, 5, 7, 12, 5, 78, 58, 37, 31, 94, 32, 65, 52, 21, 93, 91, 56, 243, 63, 63, 82, 78, 92, 224, 24, 137, 50, 39, 36, 80, 56, 85, 42, 26, 70, 34, 11, 74, 62, 62, 27, 67, 72, 45, 38, 61, 8, 32, 5, 13, 18, 20, 77, 52, 45, 72, 32, 21, 81, 38, 15, 48, 28, 34, 3, 4, 10, 4, 37, 30, 30, 17, 55, 20, 44, 25, 15, 61, 39, 35, 106, 38, 39, 45, 40, 53, 94, 16, 71, 28, 21, 19, 36, 28, 81, 117, 61, 33, 93, 45, 6, 90, 86, 71, 19, 83, 87, 58, 45, 87, 11, 37, 2, 12, 20, 33, 99, 48, 52, 95, 42, 26, 99, 56, 12, 67, 22, 44, 6, 7, 12, 4, 67, 33, 33, 25, 59, 27, 46, 23, 11, 65, 52, 58, 144, 54, 38, 52, 58, 57, 125, 15, 79, 24, 22, 20, 58, 52, 97, 60, 80, 55, 36, 66, 35, 1, 69, 52, 48, 13, 64, 62, 32, 17, 47, 5, 40, 1, 5, 8, 27, 75, 30, 50, 66, 23, 26, 71, 63, 8, 53, 17, 46, 5, 6, 8, 5, 57, 30, 31, 31, 51, 22, 31, 12, 12, 47, 27, 43, 90, 37, 20, 54, 48, 53, 90, 7, 50, 15, 12, 12, 58, 50, 66, 41, 64, 98, 83, 40, 94, 43, 4, 104, 65, 59, 25, 102, 95, 40, 23, 50, 6, 62, 3, 8, 16, 28, 112, 55, 70, 70, 26, 42, 97, 74, 8, 71, 26, 68, 4, 4, 7, 7, 71, 49, 34, 26, 68, 24, 38, 21, 14, 54, 41, 38, 125, 42, 31, 77, 60, 82, 123, 10, 70, 21, 15, 19, 88, 46, 87, 52, 61, 67, 226, 99, 50, 154, 59, 9, 187, 158, 144, 41, 171, 178, 95, 78, 150, 16, 59, 5, 23, 35, 47, 219, 126, 99, 158, 54, 42, 217, 90, 21, 130, 53, 71, 6, 10, 11, 5, 87, 63, 47, 31, 107, 39, 69, 49, 23, 99, 90, 66, 284, 73, 67, 89, 90, 103, 248, 27, 149, 48, 37, 35, 92, 69, 208, 99, 121, 85, 105, 170, 78, 43, 138, 50, 13, 152, 125, 116, 48, 130, 139, 94, 92, 116, 22, 51, 7, 31, 37, 42, 150, 86, 80, 135, 55, 35, 154, 62, 25, 94, 47, 53, 7, 7, 10, 7, 67, 53, 43, 24, 89, 28, 59, 52, 19, 93, 69, 61, 206, 64, 72, 70, 68, 80, 192, 30, 109, 53, 48, 41, 70, 52, 152, 81, 113, 64, 74, 178, 173, 84, 40, 110, 45, 5, 129, 129, 101, 30, 113, 113, 61, 52, 116, 11, 48, 2, 16, 19, 48, 152, 75, 76, 113, 36, 34, 156, 76, 15, 97, 37, 58, 5, 10, 10, 6, 73, 48, 44, 26, 71, 32, 53, 32, 16, 69, 61, 52, 205, 59, 49, 66, 72, 73, 163, 19, 107, 31, 29, 27, 83, 62, 136, 68, 98, 66, 84, 179, 128, 100, 59, 38, 87, 33, 5, 86, 76, 62, 24, 75, 76, 51, 30, 60, 8, 37, 1, 11, 16, 31, 94, 57, 60, 79, 33, 23, 92, 61, 13, 57, 32, 43, 6, 4, 7, 6, 61, 39, 37, 28, 63, 22, 44, 21, 15, 63, 42, 45, 118, 37, 40, 57, 49, 53, 111, 12, 69, 22, 21, 19, 64, 53, 80, 53, 71, 71, 72, 106, 94, 85, 105, 60, 29, 83, 35, 2, 81, 73, 55, 20, 77, 80, 45, 29, 63, 9, 34, 3, 10, 11, 30, 94, 49, 50, 82, 29, 25, 95, 56, 13, 64, 23, 40, 5, 6, 7, 5, 56, 36, 31, 23, 53, 25, 40, 19, 12, 56, 43, 44, 119, 45, 32, 47, 51, 57, 108, 9, 70, 23, 20, 19, 59, 52, 83, 49, 72, 60, 66, 108, 95, 88, 70, 5, 2, 2, 5, 4, 1, 7, 4, 5, 2, 5, 5, 2, 3, 2, 1, 4, 1, 3, 2, 4, 5, 6, 3, 5, 1, 2, 6, 4, 3, 3, 3, 2, 2, 1, 1, 1, 3, 2, 2, 2, 5, 2, 4, 3, 2, 5, 2, 2, 6, 2, 3, 5, 3, 4, 7, 2, 5, 3, 2, 3, 3, 2, 4, 4, 3, 3, 4, 6, 4, 5, 4, 5, 3, 3, 2, 4, 4, 1, 2, 4, 3, 1, 3, 3, 1, 1, 3, 1, 2, 1, 1, 1, 3, 4, 3, 2, 3, 3, 3, 5, 4, 2, 3, 2, 3, 1, 3, 2, 2, 4, 3, 3, 3, 3, 2, 3, 2, 2, 3, 3, 3, 5, 4, 2, 4, 4, 3, 4, 2, 4, 2, 2, 2, 4, 3, 4, 4, 4, 4, 4, 5, 4, 5, 4, 3, 1, 35, 27, 20, 40, 18, 6, 42, 33, 30, 11, 44, 45, 20, 16, 27, 6, 19, 2, 4, 12, 9, 48, 38, 23, 28, 18, 19, 44, 26, 9, 32, 14, 27, 4, 3, 6, 3, 24, 23, 9, 9, 27, 15, 22, 15, 12, 26, 24, 15, 51, 25, 21, 31, 27, 35, 52, 8, 42, 14, 12, 15, 30, 13, 49, 22, 31, 23, 33, 52, 38, 34, 25, 29, 3, 3, 104, 62, 36, 85, 46, 6, 105, 78, 75, 24, 99, 97, 50, 37, 78, 11, 50, 3, 9, 20, 24, 107, 64, 49, 86, 37, 25, 103, 59, 13, 84, 25, 45, 6, 5, 10, 5, 68, 42, 31, 20, 59, 32, 56, 24, 13, 58, 52, 44, 135, 55, 42, 68, 78, 68, 130, 14, 86, 24, 17, 18, 66, 40, 104, 55, 84, 58, 72, 125, 98, 95, 66, 68, 5, 4, 35, 28, 19, 9, 21, 12, 1, 22, 24, 16, 5, 20, 21, 12, 7, 22, 2, 9, 1, 1, 5, 11, 28, 12, 15, 20, 11, 9, 28, 22, 3, 19, 8, 13, 2, 11, 6, 3, 21, 10, 11, 11, 15, 13, 15, 4, 5, 12, 11, 18, 30, 18, 6, 16, 19, 12, 27, 4, 18, 7, 5, 5, 21, 19, 26, 14, 22, 23, 20, 32, 22, 31, 20, 24, 2, 3, 6, 21, 230, 117, 58, 167, 66, 13, 208, 155, 132, 50, 184, 189, 94, 74, 127, 17, 77, 6, 22, 34, 48, 212, 124, 107, 153, 51, 55, 199, 100, 28, 125, 57, 84, 6, 7, 11, 7, 105, 74, 44, 30, 111, 34, 64, 49, 24, 96, 88, 65, 297, 69, 68, 103, 89, 123, 265, 24, 137, 52, 43, 41, 109, 67, 192, 80, 122, 79, 116, 226, 161, 163, 95, 110, 6, 3, 50, 121, 25, 54, 47, 31, 49, 20, 1, 44, 38, 33, 13, 46, 48, 20, 7, 31, 4, 34, 1, 4, 7, 27, 54, 27, 39, 44, 14, 21, 47, 43, 6, 38, 14, 34, 4, 5, 5, 4, 35, 26, 24, 26, 39, 15, 21, 7, 12, 35, 19, 32, 65, 29, 16, 40, 38, 37, 59, 7, 34, 10, 8, 9, 46, 36, 46, 28, 42, 55, 50, 58, 44, 49, 49, 45, 3, 3, 17, 40, 17, 55, 87, 49, 32, 76, 29, 9, 83, 63, 54, 28, 74, 87, 45, 39, 55, 8, 36, 5, 14, 18, 23, 82, 57, 50, 64, 29, 22, 83, 40, 15, 54, 37, 34, 4, 4, 7, 5, 36, 34, 19, 16, 57, 18, 36, 29, 17, 61, 47, 32, 104, 31, 36, 43, 40, 55, 98, 11, 70, 29, 21, 25, 43, 27, 92, 49, 50, 36, 50, 90, 75, 66, 51, 48, 5, 3, 31, 53, 13, 88, 29, 188, 109, 49, 143, 56, 9, 165, 133, 102, 31, 144, 134, 70, 50, 116, 15, 61, 5, 15, 26, 49, 184, 89, 91, 125, 37, 47, 176, 102, 20, 107, 40, 72, 6, 11, 11, 7, 99, 61, 45, 29, 79, 35, 62, 37, 19, 83, 65, 61, 242, 62, 55, 88, 86, 97, 210, 20, 112, 35, 28, 26, 108, 70, 151, 80, 112, 84, 107, 201, 149, 162, 102, 97, 6, 5, 41, 116, 31, 200, 55, 77, 121, 54, 30, 81, 24, 8, 98, 90, 72, 44, 81, 90, 68, 63, 70, 19, 35, 4, 25, 32, 31, 102, 61, 56, 87, 45, 22, 107, 42, 23, 58, 33, 39, 4, 4, 5, 4, 47, 38, 25, 17, 63, 17, 37, 41, 10, 55, 52, 41, 150, 37, 62, 47, 40, 51, 124, 23, 76, 41, 38, 35, 51, 37, 97, 51, 68, 43, 52, 116, 113, 82, 58, 60, 3, 3, 25, 57, 15, 124, 30, 48, 101, 16, 11, 8, 12, 9, 1, 12, 10, 10, 4, 11, 9, 3, 2, 7, 1, 8, 1, 1, 1, 7, 16, 4, 12, 9, 4, 6, 15, 9, 1, 11, 2, 11, 3, 2, 2, 1, 12, 8, 8, 7, 9, 5, 7, 2, 3, 7, 4, 8, 17, 6, 4, 9, 11, 10, 17, 3, 9, 1, 2, 1, 12, 10, 12, 8, 8, 14, 13, 17, 11, 16, 13, 9, 2, 2, 4, 11, 5, 15, 10, 6, 18, 6, 46, 32, 23, 50, 22, 2, 42, 34, 28, 14, 44, 43, 22, 15, 29, 8, 25, 1, 5, 8, 18, 46, 27, 32, 41, 18, 15, 42, 27, 8, 35, 14, 24, 4, 2, 5, 2, 25, 21, 20, 13, 32, 12, 23, 11, 12, 29, 24, 26, 52, 17, 13, 30, 25, 35, 53, 7, 28, 9, 9, 6, 30, 22, 40, 25, 32, 28, 34, 49, 49, 35, 39, 37, 3, 3, 16, 30, 8, 49, 24, 25, 46, 27, 7, 93, 41, 22, 74, 26, 7, 78, 76, 83, 35, 70, 77, 58, 65, 61, 12, 22, 5, 25, 30, 21, 83, 60, 34, 72, 42, 17, 88, 31, 23, 50, 33, 30, 5, 3, 10, 4, 31, 30, 22, 10, 50, 17, 37, 44, 14, 55, 49, 33, 112, 35, 57, 41, 42, 41, 97, 27, 78, 39, 35, 31, 33, 20, 89, 46, 61, 32, 34, 101, 104, 70, 46, 44, 4, 3, 28, 56, 14, 97, 24, 43, 78, 87, 7, 23, 107, 62, 28, 83, 31, 5, 96, 80, 72, 24, 88, 94, 51, 42, 73, 8, 32, 5, 17, 16, 31, 102, 59, 53, 78, 33, 22, 102, 39, 20, 62, 32, 40, 1, 4, 9, 6, 46, 38, 26, 15, 59, 19, 35, 28, 14, 54, 57, 40, 128, 34, 39, 44, 44, 59, 115, 12, 76, 31, 27, 24, 44, 37, 100, 56, 61, 39, 50, 107, 94, 80, 51, 60, 2, 3, 24, 59, 14, 110, 30, 58, 91, 62, 7, 31, 54, 150, 80, 40, 119, 55, 8, 118, 108, 94, 26, 106, 112, 74, 57, 112, 14, 45, 3, 20, 23, 40, 131, 71, 61, 125, 50, 26, 145, 71, 18, 90, 29, 55, 6, 8, 12, 5, 78, 44, 43, 26, 78, 32, 54, 38, 13, 81, 65, 68, 189, 54, 52, 72, 76, 69, 161, 20, 104, 33, 31, 26, 76, 68, 126, 71, 126, 76, 77, 162, 141, 130, 87, 94, 4, 4, 34, 100, 25, 160, 48, 61, 152, 92, 11, 40, 80, 79, 190, 102, 44, 142, 53, 13, 187, 125, 121, 45, 147, 157, 84, 68, 102, 16, 63, 5, 26, 37, 45, 184, 115, 93, 115, 40, 44, 160, 82, 30, 106, 59, 69, 7, 6, 10, 8, 76, 64, 35, 21, 100, 25, 55, 50, 22, 95, 75, 51, 254, 59, 65, 89, 72, 101, 220, 23, 117, 52, 41, 44, 103, 52, 168, 74, 92, 66, 102, 188, 141, 137, 85, 83, 7, 3, 43, 99, 22, 198, 48, 84, 174, 110, 12, 35, 80, 88, 129, 73, 51, 30, 60, 26, 5, 67, 52, 42, 15, 58, 61, 38, 19, 39, 6, 37, 2, 5, 10, 26, 69, 33, 48, 55, 26, 22, 69, 47, 10, 42, 19, 40, 5, 6, 7, 5, 46, 30, 28, 25, 53, 14, 31, 14, 9, 45, 24, 37, 88, 31, 29, 48, 41, 44, 84, 9, 44, 16, 14, 13, 52, 41, 60, 36, 61, 53, 56, 74, 66, 62, 60, 52, 1, 4, 17, 49, 19, 75, 42, 38, 76, 50, 12, 24, 32, 39, 70, 68, 118, 59, 34, 88, 33, 5, 102, 78, 60, 26, 82, 85, 50, 39, 63, 9, 37, 2, 14, 18, 34, 99, 59, 58, 80, 26, 20, 102, 57, 15, 61, 31, 44, 6, 7, 6, 6, 50, 41, 31, 18, 59, 24, 43, 26, 16, 62, 43, 37, 136, 40, 47, 54, 49, 60, 117, 14, 67, 28, 23, 25, 66, 47, 89, 53, 58, 51, 71, 112, 83, 104, 70, 63, 6, 2, 24, 60, 21, 105, 38, 59, 111, 62, 11, 28, 45, 51, 81, 102, 47, 65, 53, 33, 77, 29, 7, 80, 45, 51, 19, 84, 83, 35, 24, 34, 6, 42, 5, 7, 16, 16, 85, 58, 54, 46, 27, 36, 67, 44, 14, 51, 37, 48, 6, 4, 9, 7, 41, 43, 18, 16, 59, 15, 29, 21, 19, 46, 36, 22, 93, 32, 26, 59, 39, 66, 99, 13, 54, 25, 24, 23, 42, 18, 77, 38, 44, 38, 58, 78, 62, 53, 42, 37, 4, 3, 30, 49, 10, 88, 31, 45, 66, 39, 4, 25, 37, 42, 47, 80, 33, 39, 80, 26, 31, 52, 20, 13, 98, 47, 64, 27, 56, 62, 60, 42, 54, 13, 22, 5, 22, 23, 19, 52, 46, 54, 68, 26, 12, 50, 22, 10, 33, 36, 24, 3, 2, 6, 5, 22, 21, 15, 11, 42, 10, 24, 17, 12, 39, 29, 21, 95, 14, 26, 30, 23, 38, 66, 12, 44, 22, 16, 20, 22, 15, 52, 29, 27, 21, 28, 53, 49, 37, 33, 22, 2, 1, 11, 35, 8, 55, 15, 35, 46, 31, 4, 18, 33, 33, 39, 45, 22, 32, 29, 103, 68, 33, 80, 34, 3, 74, 76, 51, 16, 66, 74, 42, 25, 64, 9, 39, 1, 5, 10, 36, 90, 44, 56, 77, 26, 25, 98, 72, 11, 59, 21, 48, 3, 11, 8, 4, 66, 33, 33, 31, 56, 26, 33, 19, 10, 53, 39, 49, 123, 37, 27, 59, 55, 50, 112, 11, 63, 22, 17, 16, 69, 64, 83, 46, 73, 79, 64, 110, 85, 91, 75, 66, 3, 5, 21, 67, 30, 105, 53, 40, 112, 62, 13, 31, 42, 50, 102, 86, 55, 63, 34, 19, 183, 93, 48, 117, 44, 8, 139, 121, 86, 33, 120, 121, 69, 50, 109, 14, 56, 2, 19, 24, 51, 152, 73, 84, 121, 34, 35, 156, 78, 16, 98, 38, 53, 6, 9, 9, 6, 74, 47, 44, 27, 80, 30, 48, 25, 15, 77, 56, 52, 204, 50, 46, 67, 65, 76, 164, 21, 101, 29, 24, 24, 83, 64, 123, 64, 97, 72, 85, 164, 129, 167, 85, 91, 5, 3, 27, 90, 28, 166, 53, 70, 163, 84, 15, 38, 64, 84, 121, 143, 71, 103, 57, 39, 94, 207, 119, 51, 156, 60, 12, 198, 134, 118, 45, 173, 172, 81, 58, 113, 15, 73, 6, 22, 32, 45, 196, 114, 110, 129, 40, 52, 176, 93, 22, 120, 54, 83, 5, 6, 10, 7, 100, 74, 40, 31, 96, 32, 62, 44, 22, 93, 81, 59, 271, 58, 59, 97, 85, 119, 241, 18, 117, 45, 39, 35, 108, 62, 179, 76, 99, 74, 120, 207, 146, 150, 97, 99, 4, 4, 50, 108, 25, 230, 53, 83, 193, 107, 16, 47, 75, 98, 135, 202, 71, 110, 84, 48, 96, 150, 179, 84, 46, 131, 48, 9, 145, 132, 110, 38, 127, 139, 76, 67, 121, 16, 55, 4, 20, 30, 43, 174, 95, 74, 134, 50, 38, 176, 70, 22, 109, 40, 55, 7, 8, 11, 6, 75, 53, 37, 26, 86, 30, 62, 43, 18, 77, 73, 59, 232, 70, 64, 75, 78, 80, 196, 29, 125, 42, 38, 34, 82, 57, 167, 75, 106, 66, 80, 208, 156, 155, 87, 97, 5, 5, 43, 109, 26, 194, 47, 77, 168, 109, 14, 39, 87, 93, 148, 154, 64, 94, 60, 37, 89, 142, 165, 244, 102, 57, 169, 82, 14, 239, 167, 169, 48, 192, 212, 102, 99, 155, 20, 76, 7, 34, 40, 53, 222, 153, 103, 167, 55, 42, 213, 87, 26, 133, 65, 75, 6, 7, 10, 8, 93, 75, 46, 26, 119, 36, 71, 55, 24, 112, 94, 68, 335, 70, 76, 111, 92, 121, 301, 33, 146, 59, 48, 47, 98, 61, 215, 95, 124, 81, 106, 256, 181, 174, 96, 104, 7, 5, 51, 129, 25, 259, 55, 94, 202, 124, 15, 45, 102, 115, 169, 216, 75, 118, 84, 67, 100, 167, 225, 205, 134, 64, 36, 86, 32, 5, 101, 96, 68, 25, 100, 89, 53, 43, 79, 15, 35, 3, 13, 19, 43, 120, 72, 61, 94, 31, 25, 121, 64, 20, 67, 34, 44, 4, 8, 9, 6, 55, 39, 37, 26, 57, 23, 39, 31, 14, 62, 52, 44, 162, 41, 37, 52, 48, 60, 130, 18, 80, 33, 27, 28, 64, 49, 99, 54, 75, 58, 68, 130, 98, 124, 72, 72, 6, 4, 27, 76, 25, 124, 41, 54, 135, 70, 12, 31, 56, 65, 100, 108, 58, 87, 44, 38, 82, 129, 117, 117, 136, 325, 99, 85, 169, 70, 24, 320, 157, 247, 74, 183, 226, 162, 157, 212, 32, 77, 8, 63, 60, 62, 213, 137, 139, 229, 59, 45, 189, 78, 31, 127, 72, 72, 7, 4, 9, 7, 83, 70, 46, 29, 126, 29, 66, 66, 22, 114, 91, 65, 394, 63, 74, 97, 79, 123, 292, 34, 150, 68, 52, 49, 89, 58, 221, 93, 114, 74, 100, 227, 193, 153, 98, 88, 6, 3, 49, 110, 20, 232, 55, 101, 176, 128, 13, 48, 111, 116, 146, 204, 71, 110, 84, 105, 92, 154, 212, 185, 290, 125]\n",
      "Average common support is  47.99\n"
     ]
    },
    {
     "data": {
      "text/plain": [
       "(array([  2.72600000e+03,   1.31000000e+03,   5.37000000e+02,\n",
       "          1.97000000e+02,   9.50000000e+01,   5.50000000e+01,\n",
       "          1.70000000e+01,   6.00000000e+00,   5.00000000e+00,\n",
       "          2.00000000e+00]),\n",
       " array([   1. ,   40.3,   79.6,  118.9,  158.2,  197.5,  236.8,  276.1,\n",
       "         315.4,  354.7,  394. ]),\n",
       " <a list of 10 Patch objects>)"
      ]
     },
     "execution_count": 73,
     "metadata": {},
     "output_type": "execute_result"
    },
    {
     "data": {
      "image/png": "[encoded data removed]",
      "text/plain": [
       "<matplotlib.figure.Figure at 0x182999e8>"
      ]
     },
     "metadata": {},
     "output_type": "display_data"
    }
   ],
   "source": [
    "#Task t1g: Let us now analyze the common support for movielens dataset\n",
    "# Here is the high level idea\n",
    "# We are going to create an array and populate it with the common support for all pair of movies\n",
    "# We then are going to plot a histogram and see its distribution.\n",
    "\n",
    "#This task might take quite some time - 1-2 hours for typical machines !\n",
    "\n",
    "#This contains all unique movies\n",
    "t1g_all_movies = movies_df['MovieId'].unique()\n",
    "#You will populate common support for all distinct pairs here\n",
    "# Note that if you compared i,j you dont need to compare j and i again\n",
    "t1g_allpair_commonsupport = []\n",
    "\n",
    "#Your code to compute \n",
    "# t1g_all_movies = t1g_all_movies[:100]\n",
    "# print t1g_all_movies\n",
    "number_of_unique_movies = t1g_all_movies.size\n",
    "# print number_of_unique_movies\n",
    "\n",
    "# t1g_allpair_commonsupport = [-1]*number_of_unique_movies\n",
    "# print t1g_allpair_commonsupport\n",
    "                            \n",
    "for i in range(number_of_unique_movies):\n",
    "    \n",
    "    # t= i+1\n",
    "    # if t1g_allpair_commonsupport[i]==-1:\n",
    "        # t1g_allpair_commonsupport[i] = 0\n",
    "    \n",
    "    for j in t1g_all_movies[:i+1]:\n",
    "        if not i+1 == j:\n",
    "            c1 = movielens_df[movielens_df.MovieId.isin([i+1])]\n",
    "            c2 = movielens_df[movielens_df.MovieId.isin([j])]\n",
    "            count = 0\n",
    "            for x in c1.UserId:\n",
    "                for y in c2.UserId:\n",
    "                    if x == y:\n",
    "                        count+=1\n",
    "            t1g_allpair_commonsupport.append(count)\n",
    "            # print t1g_allpair_commonsupport\n",
    "                \n",
    "print t1g_allpair_commonsupport\n",
    "            \n",
    "print \"Average common support is \", round(np.mean(t1g_allpair_commonsupport), 2)\n",
    "plt.hist(t1g_allpair_commonsupport)\n",
    "\n",
    "            \n",
    "\n",
    "\n",
    "\n",
    "#### What the average common support and its distribution imply?"
   ]
  },
  {
   "cell_type": "code",
   "execution_count": 13,
   "metadata": {
    "collapsed": false
   },
   "outputs": [
    {
     "name": "stdout",
     "output_type": "stream",
     "text": [
      "Sparsity of the dataset is  0.0630466936422\n"
     ]
    }
   ],
   "source": [
    "#Task t1h: Let us now consider how sparse the matrix is\n",
    "from __future__ import division\n",
    "number_of_user_rows, number_of_user_columns = users_df.shape\n",
    "number_of_movie_rows, number_of_movie_columns = movies_df.shape\n",
    "number_of_rating_rows, number_of_rating_columns = ratings_df.shape\n",
    "\n",
    "# Numerator is number_of_rating_rows, Denominator is number_of_user_rows*number_of_movie_rows\n",
    "# print number_of_user_rows, number_of_movie_rows, number_of_rating_rows\n",
    "\n",
    "t1h_sparsity = number_of_rating_rows/(number_of_user_rows*number_of_movie_rows)\n",
    "print \"Sparsity of the dataset is \", t1h_sparsity\n",
    "\n",
    "#This graph is actually less sparse than typical datasets for recommender systems\n",
    "# which often have a sparsity much lower than 1%\n",
    "# As discussed in the class, the sparsity imposes huge problem in terms of designing efficient and correct algorithms"
   ]
  },
  {
   "cell_type": "code",
   "execution_count": 80,
   "metadata": {
    "collapsed": false
   },
   "outputs": [
    {
     "data": {
      "text/html": [
       "<div style=\"max-height:1000px;max-width:1500px;overflow:auto;\">\n",
       "<table border=\"1\" class=\"dataframe\">\n",
       "  <thead>\n",
       "    <tr style=\"text-align: right;\">\n",
       "      <th></th>\n",
       "      <th>F</th>\n",
       "      <th>M</th>\n",
       "    </tr>\n",
       "    <tr>\n",
       "      <th>Title</th>\n",
       "      <th></th>\n",
       "      <th></th>\n",
       "    </tr>\n",
       "  </thead>\n",
       "  <tbody>\n",
       "    <tr>\n",
       "      <th>'Til There Was You (1997)</th>\n",
       "      <td>2.200000</td>\n",
       "      <td>2.500000</td>\n",
       "    </tr>\n",
       "    <tr>\n",
       "      <th>1-900 (1994)</th>\n",
       "      <td>1.000000</td>\n",
       "      <td>3.000000</td>\n",
       "    </tr>\n",
       "    <tr>\n",
       "      <th>101 Dalmatians (1996)</th>\n",
       "      <td>3.116279</td>\n",
       "      <td>2.772727</td>\n",
       "    </tr>\n",
       "    <tr>\n",
       "      <th>12 Angry Men (1957)</th>\n",
       "      <td>4.269231</td>\n",
       "      <td>4.363636</td>\n",
       "    </tr>\n",
       "    <tr>\n",
       "      <th>187 (1997)</th>\n",
       "      <td>3.500000</td>\n",
       "      <td>2.870968</td>\n",
       "    </tr>\n",
       "    <tr>\n",
       "      <th>2 Days in the Valley (1996)</th>\n",
       "      <td>3.235294</td>\n",
       "      <td>3.223684</td>\n",
       "    </tr>\n",
       "    <tr>\n",
       "      <th>20,000 Leagues Under the Sea (1954)</th>\n",
       "      <td>3.214286</td>\n",
       "      <td>3.568966</td>\n",
       "    </tr>\n",
       "    <tr>\n",
       "      <th>2001: A Space Odyssey (1968)</th>\n",
       "      <td>3.491228</td>\n",
       "      <td>4.103960</td>\n",
       "    </tr>\n",
       "    <tr>\n",
       "      <th>3 Ninjas: High Noon At Mega Mountain (1998)</th>\n",
       "      <td>1.000000</td>\n",
       "      <td>1.000000</td>\n",
       "    </tr>\n",
       "    <tr>\n",
       "      <th>39 Steps, The (1935)</th>\n",
       "      <td>4.000000</td>\n",
       "      <td>4.060000</td>\n",
       "    </tr>\n",
       "  </tbody>\n",
       "</table>\n",
       "</div>"
      ],
      "text/plain": [
       "                                                    F         M\n",
       "Title                                                          \n",
       "'Til There Was You (1997)                    2.200000  2.500000\n",
       "1-900 (1994)                                 1.000000  3.000000\n",
       "101 Dalmatians (1996)                        3.116279  2.772727\n",
       "12 Angry Men (1957)                          4.269231  4.363636\n",
       "187 (1997)                                   3.500000  2.870968\n",
       "2 Days in the Valley (1996)                  3.235294  3.223684\n",
       "20,000 Leagues Under the Sea (1954)          3.214286  3.568966\n",
       "2001: A Space Odyssey (1968)                 3.491228  4.103960\n",
       "3 Ninjas: High Noon At Mega Mountain (1998)  1.000000  1.000000\n",
       "39 Steps, The (1935)                         4.000000  4.060000"
      ]
     },
     "metadata": {},
     "output_type": "display_data"
    }
   ],
   "source": [
    "#Task t1i: Compute the average rating for each movie grouped by gender\n",
    "#  In other words, for each movie, compute the average rating given by men and women\n",
    "# Hint: use a pivot table\n",
    "\n",
    "movielens_df_m = movielens_df[movielens_df.Gender.isin(['M'])]\n",
    "# print movielens_df_m\n",
    "movielens_df_f = movielens_df[movielens_df.Gender.isin(['F'])]\n",
    "# movielens_df_f\n",
    "                                            \n",
    "                                            \n",
    "t1i_movielens_mean_ratings = DataFrame(movielens_df.groupby(['Title']).Rating.mean()) \n",
    "t1i_movielens_mean_ratings.columns = ['Mean']\n",
    "# print t1i_movielens_mean_ratings[:10]\n",
    "t1f_m = DataFrame(movielens_df_m.groupby(['Title']).Rating.mean())\n",
    "t1f_m.columns = ['M']\n",
    "# print t1f_m[:10]\n",
    "t1f_f = DataFrame(movielens_df_f.groupby(['Title']).Rating.mean())\n",
    "t1f_f.columns = ['F']\n",
    "# print t1f_f[:10]\n",
    "                                            \n",
    "t1i_movielens_mean_ratings = DataFrame.join(t1i_movielens_mean_ratings, t1f_f)\n",
    "# print t1i_movielens_mean_ratings[:10]\n",
    "t1i_movielens_mean_ratings = DataFrame.join(t1i_movielens_mean_ratings, t1f_m)\n",
    "# print t1i_movielens_mean_ratings[:10]\n",
    "t1i_movielens_mean_ratings.drop('Mean', axis=1, inplace=True)\n",
    "# print t1i_movielens_mean_ratings[:10]\n",
    "\n",
    "display(t1i_movielens_mean_ratings[:10])"
   ]
  },
  {
   "cell_type": "markdown",
   "metadata": {},
   "source": [
    "# Part 2: Nearest Neighbor based Recommender System"
   ]
  },
  {
   "cell_type": "markdown",
   "metadata": {},
   "source": [
    "Let us now build a simple global recommendation system based on the nearest neighbor idea. "
   ]
  },
  {
   "cell_type": "code",
   "execution_count": 81,
   "metadata": {
    "collapsed": false
   },
   "outputs": [],
   "source": [
    "import collections\n",
    "\n",
    "#Task t2a: \n",
    "# Create a dictionary where key is Movie Name and value is id\n",
    "#       You can either use the movies_df or read and parse the u.item file yourself\n",
    "movie_name_to_id_dictionary = {}\n",
    "\n",
    "movies_df = pd.read_csv('ml-100k/u.item', sep='|', names=['MovieId', 'Title'], usecols=range(2))\n",
    "movies_list = movies_df.values.tolist()\n",
    "keys=[m[1] for m in movies_list]\n",
    "values=[m[0] for m in movies_list]\n",
    "\n",
    "movie_name_to_id_dictionary = collections.OrderedDict(zip(keys,values))\n",
    "\n",
    "#Write code to populate the movie names to this array\n",
    "all_movie_names = keys\n",
    "\n",
    "#Your code below"
   ]
  },
  {
   "cell_type": "code",
   "execution_count": 82,
   "metadata": {
    "collapsed": false
   },
   "outputs": [],
   "source": [
    "#Task t2b: Write a function that takes two inputs: \n",
    "#  movie_id: id of the movie and common_users: a set of user ids\n",
    "# and returns the list of rows corresponding to their movie ratings \n",
    "\n",
    "def get_movie_reviews(movie_id, common_users):\n",
    "    #Get a boolean vector for themovielens_dfns_dfs provided by users in common_users for movie movie_id\n",
    "    # Hint: use the isin operator of Pandas\n",
    "    mask = None\n",
    "    \n",
    "    #Create a subset of data where the mask is True i.e. only collect data from users who satisfy the condition above\n",
    "    # Then sort them based on userid\n",
    "    movie_ratings = None\n",
    "    \n",
    "    movie_ratings = movielens_df[(movielens_df.MovieId == movie_id) & (movielens_df.UserId.isin(list(common_users)))]\n",
    "    \n",
    "    #Do not change below\n",
    "    #Return the unique set of ratings provided\n",
    "    movie_ratings = movie_ratings[movie_ratings['UserId'].duplicated()==False]\n",
    "    \n",
    "    #Below 1 line added by Divya\n",
    "    movie_ratings= movie_ratings.sort(['MovieId', 'UserId'] , ascending=[True, True])\n",
    "    \n",
    "    return movie_ratings"
   ]
  },
  {
   "cell_type": "code",
   "execution_count": 83,
   "metadata": {
    "collapsed": false
   },
   "outputs": [
    {
     "name": "stdout",
     "output_type": "stream",
     "text": [
      "get_movie_reviews(1, set([1]))\n"
     ]
    },
    {
     "data": {
      "text/html": [
       "<div style=\"max-height:1000px;max-width:1500px;overflow:auto;\">\n",
       "<table border=\"1\" class=\"dataframe\">\n",
       "  <thead>\n",
       "    <tr style=\"text-align: right;\">\n",
       "      <th></th>\n",
       "      <th>MovieId</th>\n",
       "      <th>Title</th>\n",
       "      <th>UserId</th>\n",
       "      <th>Rating</th>\n",
       "      <th>Age</th>\n",
       "      <th>Gender</th>\n",
       "      <th>Occupation</th>\n",
       "      <th>ZipCode</th>\n",
       "    </tr>\n",
       "  </thead>\n",
       "  <tbody>\n",
       "    <tr>\n",
       "      <th>20103</th>\n",
       "      <td>1</td>\n",
       "      <td>Toy Story (1995)</td>\n",
       "      <td>1</td>\n",
       "      <td>5</td>\n",
       "      <td>24</td>\n",
       "      <td>M</td>\n",
       "      <td>technician</td>\n",
       "      <td>85711</td>\n",
       "    </tr>\n",
       "  </tbody>\n",
       "</table>\n",
       "</div>"
      ],
      "text/plain": [
       "       MovieId             Title  UserId  Rating  Age Gender  Occupation  \\\n",
       "20103        1  Toy Story (1995)       1       5   24      M  technician   \n",
       "\n",
       "      ZipCode  \n",
       "20103   85711  "
      ]
     },
     "metadata": {},
     "output_type": "display_data"
    },
    {
     "name": "stdout",
     "output_type": "stream",
     "text": [
      "get_movie_reviews(1, set(range(1, 10)))\n"
     ]
    },
    {
     "data": {
      "text/html": [
       "<div style=\"max-height:1000px;max-width:1500px;overflow:auto;\">\n",
       "<table border=\"1\" class=\"dataframe\">\n",
       "  <thead>\n",
       "    <tr style=\"text-align: right;\">\n",
       "      <th></th>\n",
       "      <th>MovieId</th>\n",
       "      <th>Title</th>\n",
       "      <th>UserId</th>\n",
       "      <th>Rating</th>\n",
       "      <th>Age</th>\n",
       "      <th>Gender</th>\n",
       "      <th>Occupation</th>\n",
       "      <th>ZipCode</th>\n",
       "    </tr>\n",
       "  </thead>\n",
       "  <tbody>\n",
       "    <tr>\n",
       "      <th>20103</th>\n",
       "      <td>1</td>\n",
       "      <td>Toy Story (1995)</td>\n",
       "      <td>1</td>\n",
       "      <td>5</td>\n",
       "      <td>24</td>\n",
       "      <td>M</td>\n",
       "      <td>technician</td>\n",
       "      <td>85711</td>\n",
       "    </tr>\n",
       "    <tr>\n",
       "      <th>15002</th>\n",
       "      <td>1</td>\n",
       "      <td>Toy Story (1995)</td>\n",
       "      <td>2</td>\n",
       "      <td>4</td>\n",
       "      <td>53</td>\n",
       "      <td>F</td>\n",
       "      <td>other</td>\n",
       "      <td>94043</td>\n",
       "    </tr>\n",
       "    <tr>\n",
       "      <th>820</th>\n",
       "      <td>1</td>\n",
       "      <td>Toy Story (1995)</td>\n",
       "      <td>5</td>\n",
       "      <td>4</td>\n",
       "      <td>33</td>\n",
       "      <td>F</td>\n",
       "      <td>other</td>\n",
       "      <td>15213</td>\n",
       "    </tr>\n",
       "    <tr>\n",
       "      <th>35865</th>\n",
       "      <td>1</td>\n",
       "      <td>Toy Story (1995)</td>\n",
       "      <td>6</td>\n",
       "      <td>4</td>\n",
       "      <td>42</td>\n",
       "      <td>M</td>\n",
       "      <td>executive</td>\n",
       "      <td>98101</td>\n",
       "    </tr>\n",
       "  </tbody>\n",
       "</table>\n",
       "</div>"
      ],
      "text/plain": [
       "       MovieId             Title  UserId  Rating  Age Gender  Occupation  \\\n",
       "20103        1  Toy Story (1995)       1       5   24      M  technician   \n",
       "15002        1  Toy Story (1995)       2       4   53      F       other   \n",
       "820          1  Toy Story (1995)       5       4   33      F       other   \n",
       "35865        1  Toy Story (1995)       6       4   42      M   executive   \n",
       "\n",
       "      ZipCode  \n",
       "20103   85711  \n",
       "15002   94043  \n",
       "820     15213  \n",
       "35865   98101  "
      ]
     },
     "metadata": {},
     "output_type": "display_data"
    },
    {
     "name": "stdout",
     "output_type": "stream",
     "text": [
      "get_movie_reviews(100, set(range(1, 10)))\n"
     ]
    },
    {
     "data": {
      "text/html": [
       "<div style=\"max-height:1000px;max-width:1500px;overflow:auto;\">\n",
       "<table border=\"1\" class=\"dataframe\">\n",
       "  <thead>\n",
       "    <tr style=\"text-align: right;\">\n",
       "      <th></th>\n",
       "      <th>MovieId</th>\n",
       "      <th>Title</th>\n",
       "      <th>UserId</th>\n",
       "      <th>Rating</th>\n",
       "      <th>Age</th>\n",
       "      <th>Gender</th>\n",
       "      <th>Occupation</th>\n",
       "      <th>ZipCode</th>\n",
       "    </tr>\n",
       "  </thead>\n",
       "  <tbody>\n",
       "    <tr>\n",
       "      <th>20202</th>\n",
       "      <td>100</td>\n",
       "      <td>Fargo (1996)</td>\n",
       "      <td>1</td>\n",
       "      <td>5</td>\n",
       "      <td>24</td>\n",
       "      <td>M</td>\n",
       "      <td>technician</td>\n",
       "      <td>85711</td>\n",
       "    </tr>\n",
       "    <tr>\n",
       "      <th>15009</th>\n",
       "      <td>100</td>\n",
       "      <td>Fargo (1996)</td>\n",
       "      <td>2</td>\n",
       "      <td>5</td>\n",
       "      <td>53</td>\n",
       "      <td>F</td>\n",
       "      <td>other</td>\n",
       "      <td>94043</td>\n",
       "    </tr>\n",
       "    <tr>\n",
       "      <th>843</th>\n",
       "      <td>100</td>\n",
       "      <td>Fargo (1996)</td>\n",
       "      <td>5</td>\n",
       "      <td>5</td>\n",
       "      <td>33</td>\n",
       "      <td>F</td>\n",
       "      <td>other</td>\n",
       "      <td>15213</td>\n",
       "    </tr>\n",
       "    <tr>\n",
       "      <th>35894</th>\n",
       "      <td>100</td>\n",
       "      <td>Fargo (1996)</td>\n",
       "      <td>6</td>\n",
       "      <td>5</td>\n",
       "      <td>42</td>\n",
       "      <td>M</td>\n",
       "      <td>executive</td>\n",
       "      <td>98101</td>\n",
       "    </tr>\n",
       "    <tr>\n",
       "      <th>74830</th>\n",
       "      <td>100</td>\n",
       "      <td>Fargo (1996)</td>\n",
       "      <td>7</td>\n",
       "      <td>5</td>\n",
       "      <td>57</td>\n",
       "      <td>M</td>\n",
       "      <td>administrator</td>\n",
       "      <td>91344</td>\n",
       "    </tr>\n",
       "  </tbody>\n",
       "</table>\n",
       "</div>"
      ],
      "text/plain": [
       "       MovieId         Title  UserId  Rating  Age Gender     Occupation  \\\n",
       "20202      100  Fargo (1996)       1       5   24      M     technician   \n",
       "15009      100  Fargo (1996)       2       5   53      F          other   \n",
       "843        100  Fargo (1996)       5       5   33      F          other   \n",
       "35894      100  Fargo (1996)       6       5   42      M      executive   \n",
       "74830      100  Fargo (1996)       7       5   57      M  administrator   \n",
       "\n",
       "      ZipCode  \n",
       "20202   85711  \n",
       "15009   94043  \n",
       "843     15213  \n",
       "35894   98101  \n",
       "74830   91344  "
      ]
     },
     "metadata": {},
     "output_type": "display_data"
    },
    {
     "name": "stdout",
     "output_type": "stream",
     "text": [
      "get_movie_reviews(784, set(range(1, 784)))\n"
     ]
    },
    {
     "data": {
      "text/html": [
       "<div style=\"max-height:1000px;max-width:1500px;overflow:auto;\">\n",
       "<table border=\"1\" class=\"dataframe\">\n",
       "  <thead>\n",
       "    <tr style=\"text-align: right;\">\n",
       "      <th></th>\n",
       "      <th>MovieId</th>\n",
       "      <th>Title</th>\n",
       "      <th>UserId</th>\n",
       "      <th>Rating</th>\n",
       "      <th>Age</th>\n",
       "      <th>Gender</th>\n",
       "      <th>Occupation</th>\n",
       "      <th>ZipCode</th>\n",
       "    </tr>\n",
       "  </thead>\n",
       "  <tbody>\n",
       "    <tr>\n",
       "      <th>18103</th>\n",
       "      <td>784</td>\n",
       "      <td>Beyond Bedlam (1993)</td>\n",
       "      <td>13</td>\n",
       "      <td>1</td>\n",
       "      <td>47</td>\n",
       "      <td>M</td>\n",
       "      <td>educator</td>\n",
       "      <td>29206</td>\n",
       "    </tr>\n",
       "    <tr>\n",
       "      <th>67420</th>\n",
       "      <td>784</td>\n",
       "      <td>Beyond Bedlam (1993)</td>\n",
       "      <td>405</td>\n",
       "      <td>1</td>\n",
       "      <td>22</td>\n",
       "      <td>F</td>\n",
       "      <td>healthcare</td>\n",
       "      <td>10019</td>\n",
       "    </tr>\n",
       "  </tbody>\n",
       "</table>\n",
       "</div>"
      ],
      "text/plain": [
       "       MovieId                 Title  UserId  Rating  Age Gender  Occupation  \\\n",
       "18103      784  Beyond Bedlam (1993)      13       1   47      M    educator   \n",
       "67420      784  Beyond Bedlam (1993)     405       1   22      F  healthcare   \n",
       "\n",
       "      ZipCode  \n",
       "18103   29206  \n",
       "67420   10019  "
      ]
     },
     "metadata": {},
     "output_type": "display_data"
    }
   ],
   "source": [
    "#Do not change below\n",
    "\n",
    "#Here are some sample test cases for evaluating t2b\n",
    "print \"get_movie_reviews(1, set([1]))\"\n",
    "display( get_movie_reviews(1, set([1])) )\n",
    "\n",
    "print \"get_movie_reviews(1, set(range(1, 10)))\"\n",
    "display( get_movie_reviews(1, set(range(1, 10))) )\n",
    "\n",
    "print \"get_movie_reviews(100, set(range(1, 10)))\"\n",
    "display( get_movie_reviews(100, set(range(1, 10))) )\n",
    "\n",
    "print \"get_movie_reviews(784, set(range(1, 784)))\"\n",
    "display( get_movie_reviews(784, set(range(1, 784))) )\n",
    "\n",
    "\n"
   ]
  },
  {
   "cell_type": "code",
   "execution_count": 84,
   "metadata": {
    "collapsed": true
   },
   "outputs": [],
   "source": [
    "#Task t2c: Let us now calculate the similarity between two movies\n",
    "# based on the set of users who rated both movies\n",
    "#Using euclidean distance is a bad idea - but simplifies the code\n",
    "\n",
    "def calculate_similarity(movie_name_1, movie_name_2, min_common_users=0):\n",
    "    \n",
    "    movie1 = movie_name_to_id_dictionary[movie_name_1]\n",
    "    movie2 = movie_name_to_id_dictionary[movie_name_2]\n",
    "    \n",
    "    #This is the set of UNIQUE user ids  who reviewed  movie1\n",
    "    users_who_rated_movie1 = set((movielens_df[(movielens_df.MovieId == movie1)].UserId).tolist())\n",
    "    \n",
    "    #This is the set of UNIQUE user ids  who reviewed  movie2\n",
    "    users_who_rated_movie2 = set((movielens_df[(movielens_df.MovieId == movie2)].UserId).tolist())\n",
    "    \n",
    "    #Compute the common users who rated both movies: \n",
    "    # hint convert both to set and do the intersection\n",
    "    common_users = users_who_rated_movie1.intersection(users_who_rated_movie2)\n",
    "    \n",
    "    #Using the code you wrote in t2a, get the reviews for the movies and common users\n",
    "    movie1_reviews = get_movie_reviews(movie1, common_users)\n",
    "    movie2_reviews = get_movie_reviews(movie2, common_users)\n",
    "    \n",
    "    #Now you have the data frame for both movies\n",
    "    # Use the euclidean_distances function from sklean (imported already)\n",
    "    # to compute the distance between their rating values\n",
    "    distance = euclidean_distances(movie1_reviews['Rating'].values, movie2_reviews['Rating'].values)\n",
    "\n",
    "    if len(common_users) < min_common_users:\n",
    "        return [[float('inf')]]\n",
    "    return distance"
   ]
  },
  {
   "cell_type": "code",
   "execution_count": 85,
   "metadata": {
    "collapsed": false
   },
   "outputs": [
    {
     "name": "stdout",
     "output_type": "stream",
     "text": [
      "[[ 13.60147051]]\n",
      "[[ 6.244998]]\n",
      "[[ 4.12310563]]\n"
     ]
    }
   ],
   "source": [
    "#Do not change below\n",
    "print calculate_similarity(\"Toy Story (1995)\", \"GoldenEye (1995)\")\n",
    "print calculate_similarity(\"GoldenEye (1995)\", \"Tomorrow Never Dies (1997)\")\n",
    "print calculate_similarity(\"Batman Forever (1995)\", \"Batman & Robin (1997)\")"
   ]
  },
  {
   "cell_type": "code",
   "execution_count": 86,
   "metadata": {
    "collapsed": false
   },
   "outputs": [],
   "source": [
    "#Task t2d: Given a movie, find the top-k most similar movies\n",
    "# that have the lowest euclidean distance \n",
    "\n",
    "#Here is the high level logic:\n",
    "#  for each movie in all_movie_names (Except the input movie name)\n",
    "#    compute its similarity and store it in an array\n",
    "#   return the k movies with the smallest distances\n",
    "# remember to pass min_common_users to calculate_similarity\n",
    "def get_top_k_similar_movies(input_movie_name, k=5, min_common_users=0):\n",
    "    \n",
    "    other_movies = [movie_name for movie_name in all_movie_names if movie_name != input_movie_name]\n",
    "    similarity_list = []\n",
    "    for movie in other_movies:\n",
    "        similarity_list.append((calculate_similarity(input_movie_name, movie, min_common_users)[0][0], movie))\n",
    "    \n",
    "    similarity_list = sorted(similarity_list)\n",
    "    \n",
    "    return similarity_list[:k]"
   ]
  },
  {
   "cell_type": "code",
   "execution_count": 129,
   "metadata": {
    "collapsed": false
   },
   "outputs": [
    {
     "name": "stdout",
     "output_type": "stream",
     "text": [
      " \n",
      "Movies similar to GoldenEye [25]"
     ]
    },
    {
     "ename": "ValueError",
     "evalue": "Found array with 0 feature(s) (shape=(1, 0)) while a minimum of 1 is required.",
     "output_type": "error",
     "traceback": [
      "\u001b[1;31m---------------------------------------------------------------------------\u001b[0m",
      "\u001b[1;31mValueError\u001b[0m                                Traceback (most recent call last)",
      "\u001b[1;32m<ipython-input-129-03eae1b57072>\u001b[0m in \u001b[0;36m<module>\u001b[1;34m()\u001b[0m\n\u001b[0;32m      1\u001b[0m \u001b[1;31m#print get_top_k_similar_movies(\"Toy Story (1995)\", 10)\u001b[0m\u001b[1;33m\u001b[0m\u001b[1;33m\u001b[0m\u001b[0m\n\u001b[1;32m----> 2\u001b[1;33m \u001b[1;32mprint\u001b[0m \u001b[1;34m\"\\nMovies similar to GoldenEye [25]\"\u001b[0m\u001b[1;33m,\u001b[0m \u001b[0mget_top_k_similar_movies\u001b[0m\u001b[1;33m(\u001b[0m\u001b[1;34m\"GoldenEye (1995)\"\u001b[0m\u001b[1;33m,\u001b[0m \u001b[1;36m10\u001b[0m\u001b[1;33m,\u001b[0m \u001b[1;36m25\u001b[0m\u001b[1;33m)\u001b[0m\u001b[1;33m\u001b[0m\u001b[0m\n\u001b[0m\u001b[0;32m      3\u001b[0m \u001b[1;32mprint\u001b[0m \u001b[1;34m\"\\nMovies similar to GoldenEye [50]\"\u001b[0m\u001b[1;33m,\u001b[0m \u001b[0mget_top_k_similar_movies\u001b[0m\u001b[1;33m(\u001b[0m\u001b[1;34m\"GoldenEye (1995)\"\u001b[0m\u001b[1;33m,\u001b[0m \u001b[1;36m10\u001b[0m\u001b[1;33m,\u001b[0m \u001b[1;36m50\u001b[0m\u001b[1;33m)\u001b[0m\u001b[1;33m\u001b[0m\u001b[0m\n\u001b[0;32m      4\u001b[0m \u001b[1;32mprint\u001b[0m \u001b[1;34m\"\\nMovies similar to GoldenEye [100]\"\u001b[0m\u001b[1;33m,\u001b[0m \u001b[0mget_top_k_similar_movies\u001b[0m\u001b[1;33m(\u001b[0m\u001b[1;34m\"GoldenEye (1995)\"\u001b[0m\u001b[1;33m,\u001b[0m \u001b[1;36m10\u001b[0m\u001b[1;33m,\u001b[0m \u001b[1;36m100\u001b[0m\u001b[1;33m)\u001b[0m\u001b[1;33m\u001b[0m\u001b[0m\n\u001b[0;32m      5\u001b[0m \u001b[1;32mprint\u001b[0m \u001b[1;34m\"\\n\\n\"\u001b[0m\u001b[1;33m\u001b[0m\u001b[0m\n",
      "\u001b[1;32m<ipython-input-86-e3a3fb94deb8>\u001b[0m in \u001b[0;36mget_top_k_similar_movies\u001b[1;34m(input_movie_name, k, min_common_users)\u001b[0m\n\u001b[0;32m     12\u001b[0m     \u001b[0msimilarity_list\u001b[0m \u001b[1;33m=\u001b[0m \u001b[1;33m[\u001b[0m\u001b[1;33m]\u001b[0m\u001b[1;33m\u001b[0m\u001b[0m\n\u001b[0;32m     13\u001b[0m     \u001b[1;32mfor\u001b[0m \u001b[0mmovie\u001b[0m \u001b[1;32min\u001b[0m \u001b[0mother_movies\u001b[0m\u001b[1;33m:\u001b[0m\u001b[1;33m\u001b[0m\u001b[0m\n\u001b[1;32m---> 14\u001b[1;33m         \u001b[0msimilarity_list\u001b[0m\u001b[1;33m.\u001b[0m\u001b[0mappend\u001b[0m\u001b[1;33m(\u001b[0m\u001b[1;33m(\u001b[0m\u001b[0mcalculate_similarity\u001b[0m\u001b[1;33m(\u001b[0m\u001b[0minput_movie_name\u001b[0m\u001b[1;33m,\u001b[0m \u001b[0mmovie\u001b[0m\u001b[1;33m,\u001b[0m \u001b[0mmin_common_users\u001b[0m\u001b[1;33m)\u001b[0m\u001b[1;33m[\u001b[0m\u001b[1;36m0\u001b[0m\u001b[1;33m]\u001b[0m\u001b[1;33m[\u001b[0m\u001b[1;36m0\u001b[0m\u001b[1;33m]\u001b[0m\u001b[1;33m,\u001b[0m \u001b[0mmovie\u001b[0m\u001b[1;33m)\u001b[0m\u001b[1;33m)\u001b[0m\u001b[1;33m\u001b[0m\u001b[0m\n\u001b[0m\u001b[0;32m     15\u001b[0m \u001b[1;33m\u001b[0m\u001b[0m\n\u001b[0;32m     16\u001b[0m     \u001b[0msimilarity_list\u001b[0m \u001b[1;33m=\u001b[0m \u001b[0msorted\u001b[0m\u001b[1;33m(\u001b[0m\u001b[0msimilarity_list\u001b[0m\u001b[1;33m)\u001b[0m\u001b[1;33m\u001b[0m\u001b[0m\n",
      "\u001b[1;32m<ipython-input-84-e0c01c9781e1>\u001b[0m in \u001b[0;36mcalculate_similarity\u001b[1;34m(movie_name_1, movie_name_2, min_common_users)\u001b[0m\n\u001b[0;32m     25\u001b[0m     \u001b[1;31m# Use the euclidean_distances function from sklean (imported already)\u001b[0m\u001b[1;33m\u001b[0m\u001b[1;33m\u001b[0m\u001b[0m\n\u001b[0;32m     26\u001b[0m     \u001b[1;31m# to compute the distance between their rating values\u001b[0m\u001b[1;33m\u001b[0m\u001b[1;33m\u001b[0m\u001b[0m\n\u001b[1;32m---> 27\u001b[1;33m     \u001b[0mdistance\u001b[0m \u001b[1;33m=\u001b[0m \u001b[0meuclidean_distances\u001b[0m\u001b[1;33m(\u001b[0m\u001b[0mmovie1_reviews\u001b[0m\u001b[1;33m[\u001b[0m\u001b[1;34m'Rating'\u001b[0m\u001b[1;33m]\u001b[0m\u001b[1;33m.\u001b[0m\u001b[0mvalues\u001b[0m\u001b[1;33m,\u001b[0m \u001b[0mmovie2_reviews\u001b[0m\u001b[1;33m[\u001b[0m\u001b[1;34m'Rating'\u001b[0m\u001b[1;33m]\u001b[0m\u001b[1;33m.\u001b[0m\u001b[0mvalues\u001b[0m\u001b[1;33m)\u001b[0m\u001b[1;33m\u001b[0m\u001b[0m\n\u001b[0m\u001b[0;32m     28\u001b[0m \u001b[1;33m\u001b[0m\u001b[0m\n\u001b[0;32m     29\u001b[0m     \u001b[1;32mif\u001b[0m \u001b[0mlen\u001b[0m\u001b[1;33m(\u001b[0m\u001b[0mcommon_users\u001b[0m\u001b[1;33m)\u001b[0m \u001b[1;33m<\u001b[0m \u001b[0mmin_common_users\u001b[0m\u001b[1;33m:\u001b[0m\u001b[1;33m\u001b[0m\u001b[0m\n",
      "\u001b[1;32mC:\\Anaconda\\lib\\site-packages\\sklearn\\metrics\\pairwise.pyc\u001b[0m in \u001b[0;36meuclidean_distances\u001b[1;34m(X, Y, Y_norm_squared, squared)\u001b[0m\n\u001b[0;32m    190\u001b[0m     \u001b[1;31m# well as Y, then you should just pre-compute the output and not even\u001b[0m\u001b[1;33m\u001b[0m\u001b[1;33m\u001b[0m\u001b[0m\n\u001b[0;32m    191\u001b[0m     \u001b[1;31m# call this function.\u001b[0m\u001b[1;33m\u001b[0m\u001b[1;33m\u001b[0m\u001b[0m\n\u001b[1;32m--> 192\u001b[1;33m     \u001b[0mX\u001b[0m\u001b[1;33m,\u001b[0m \u001b[0mY\u001b[0m \u001b[1;33m=\u001b[0m \u001b[0mcheck_pairwise_arrays\u001b[0m\u001b[1;33m(\u001b[0m\u001b[0mX\u001b[0m\u001b[1;33m,\u001b[0m \u001b[0mY\u001b[0m\u001b[1;33m)\u001b[0m\u001b[1;33m\u001b[0m\u001b[0m\n\u001b[0m\u001b[0;32m    193\u001b[0m \u001b[1;33m\u001b[0m\u001b[0m\n\u001b[0;32m    194\u001b[0m     \u001b[1;32mif\u001b[0m \u001b[0mY_norm_squared\u001b[0m \u001b[1;32mis\u001b[0m \u001b[1;32mnot\u001b[0m \u001b[0mNone\u001b[0m\u001b[1;33m:\u001b[0m\u001b[1;33m\u001b[0m\u001b[0m\n",
      "\u001b[1;32mC:\\Anaconda\\lib\\site-packages\\sklearn\\metrics\\pairwise.pyc\u001b[0m in \u001b[0;36mcheck_pairwise_arrays\u001b[1;34m(X, Y)\u001b[0m\n\u001b[0;32m     89\u001b[0m         \u001b[0mX\u001b[0m \u001b[1;33m=\u001b[0m \u001b[0mY\u001b[0m \u001b[1;33m=\u001b[0m \u001b[0mcheck_array\u001b[0m\u001b[1;33m(\u001b[0m\u001b[0mX\u001b[0m\u001b[1;33m,\u001b[0m \u001b[0maccept_sparse\u001b[0m\u001b[1;33m=\u001b[0m\u001b[1;34m'csr'\u001b[0m\u001b[1;33m,\u001b[0m \u001b[0mdtype\u001b[0m\u001b[1;33m=\u001b[0m\u001b[0mdtype\u001b[0m\u001b[1;33m)\u001b[0m\u001b[1;33m\u001b[0m\u001b[0m\n\u001b[0;32m     90\u001b[0m     \u001b[1;32melse\u001b[0m\u001b[1;33m:\u001b[0m\u001b[1;33m\u001b[0m\u001b[0m\n\u001b[1;32m---> 91\u001b[1;33m         \u001b[0mX\u001b[0m \u001b[1;33m=\u001b[0m \u001b[0mcheck_array\u001b[0m\u001b[1;33m(\u001b[0m\u001b[0mX\u001b[0m\u001b[1;33m,\u001b[0m \u001b[0maccept_sparse\u001b[0m\u001b[1;33m=\u001b[0m\u001b[1;34m'csr'\u001b[0m\u001b[1;33m,\u001b[0m \u001b[0mdtype\u001b[0m\u001b[1;33m=\u001b[0m\u001b[0mdtype\u001b[0m\u001b[1;33m)\u001b[0m\u001b[1;33m\u001b[0m\u001b[0m\n\u001b[0m\u001b[0;32m     92\u001b[0m         \u001b[0mY\u001b[0m \u001b[1;33m=\u001b[0m \u001b[0mcheck_array\u001b[0m\u001b[1;33m(\u001b[0m\u001b[0mY\u001b[0m\u001b[1;33m,\u001b[0m \u001b[0maccept_sparse\u001b[0m\u001b[1;33m=\u001b[0m\u001b[1;34m'csr'\u001b[0m\u001b[1;33m,\u001b[0m \u001b[0mdtype\u001b[0m\u001b[1;33m=\u001b[0m\u001b[0mdtype\u001b[0m\u001b[1;33m)\u001b[0m\u001b[1;33m\u001b[0m\u001b[0m\n\u001b[0;32m     93\u001b[0m     \u001b[1;32mif\u001b[0m \u001b[0mX\u001b[0m\u001b[1;33m.\u001b[0m\u001b[0mshape\u001b[0m\u001b[1;33m[\u001b[0m\u001b[1;36m1\u001b[0m\u001b[1;33m]\u001b[0m \u001b[1;33m!=\u001b[0m \u001b[0mY\u001b[0m\u001b[1;33m.\u001b[0m\u001b[0mshape\u001b[0m\u001b[1;33m[\u001b[0m\u001b[1;36m1\u001b[0m\u001b[1;33m]\u001b[0m\u001b[1;33m:\u001b[0m\u001b[1;33m\u001b[0m\u001b[0m\n",
      "\u001b[1;32mC:\\Anaconda\\lib\\site-packages\\sklearn\\utils\\validation.pyc\u001b[0m in \u001b[0;36mcheck_array\u001b[1;34m(array, accept_sparse, dtype, order, copy, force_all_finite, ensure_2d, allow_nd, ensure_min_samples, ensure_min_features)\u001b[0m\n\u001b[0;32m    365\u001b[0m             raise ValueError(\"Found array with %d feature(s) (shape=%s) while\"\n\u001b[0;32m    366\u001b[0m                              \u001b[1;34m\" a minimum of %d is required.\"\u001b[0m\u001b[1;33m\u001b[0m\u001b[0m\n\u001b[1;32m--> 367\u001b[1;33m                              % (n_features, shape_repr, ensure_min_features))\n\u001b[0m\u001b[0;32m    368\u001b[0m     \u001b[1;32mreturn\u001b[0m \u001b[0marray\u001b[0m\u001b[1;33m\u001b[0m\u001b[0m\n\u001b[0;32m    369\u001b[0m \u001b[1;33m\u001b[0m\u001b[0m\n",
      "\u001b[1;31mValueError\u001b[0m: Found array with 0 feature(s) (shape=(1, 0)) while a minimum of 1 is required."
     ]
    }
   ],
   "source": [
    "#print get_top_k_similar_movies(\"Toy Story (1995)\", 10)\n",
    "print \"\\nMovies similar to GoldenEye [25]\", get_top_k_similar_movies(\"GoldenEye (1995)\", 10, 25)\n",
    "print \"\\nMovies similar to GoldenEye [50]\", get_top_k_similar_movies(\"GoldenEye (1995)\", 10, 50)\n",
    "print \"\\nMovies similar to GoldenEye [100]\", get_top_k_similar_movies(\"GoldenEye (1995)\", 10, 100)\n",
    "print \"\\n\\n\"\n",
    "\n",
    "print \"\\nMovies similar to Usual Suspects [25]\", get_top_k_similar_movies(\"Usual Suspects, The (1995)\", 10, 25)\n",
    "print \"\\nMovies similar to Usual Suspects [50]\", get_top_k_similar_movies(\"Usual Suspects, The (1995)\", 10, 50)\n",
    "print \"\\nMovies similar to Usual Suspects [100]\", get_top_k_similar_movies(\"Usual Suspects, The (1995)\", 10, 100)\n",
    "print \"\\n\\n\"\n",
    "\n",
    "print \"\\nMovies similar to Batman Forever [25]\", get_top_k_similar_movies(\"Batman Forever (1995)\", 10, 25)\n",
    "print \"\\nMovies similar to Batman Forever [50]\", get_top_k_similar_movies(\"Batman Forever (1995)\", 10, 50)\n",
    "print \"\\nMovies similar to Batman Forever [100]\", get_top_k_similar_movies(\"Batman Forever (1995)\", 10, 100)\n",
    "print \"\\n\\n\"\n",
    "\n",
    "print \"\\nMovies similar to Shawshank Redemption [25]\", get_top_k_similar_movies(\"Shawshank Redemption, The (1994)\", 10, 25)\n",
    "print \"\\nMovies similar to Shawshank Redemption [50]\", get_top_k_similar_movies(\"Shawshank Redemption, The (1994)\", 10, 50)\n",
    "print \"\\nMovies similar to Shawshank Redemption [100]\", get_top_k_similar_movies(\"Shawshank Redemption, The (1994)\", 10, 100)\n",
    "print \"\\n\\n\"\n"
   ]
  },
  {
   "cell_type": "markdown",
   "metadata": {},
   "source": [
    "#Task 3: Item based Collaborative Filtering\n",
    "\n",
    "In this task, let us try to perform item based collaborative filtering. In spirit, it is very similar to what you already did for Task 2. With some minor changes, you can easily build an item based collaborative filtering recommenders."
   ]
  },
  {
   "cell_type": "code",
   "execution_count": 88,
   "metadata": {
    "collapsed": false
   },
   "outputs": [
    {
     "name": "stdout",
     "output_type": "stream",
     "text": [
      "\n"
     ]
    }
   ],
   "source": [
    "#Do not change below\n",
    "# By default euclidean distance can be give arbitrary values\n",
    "# Let us \"normalize\" it by limit its value between 0 and 1 and slightly change the interpretation\n",
    "# 0 means that the preferences are very different\n",
    "# 1 means that preferences are identical\n",
    "# For tasks 3 and 4, remember to use this function\n",
    "\n",
    "#Vec1 and vec2 are vectors\n",
    "def euclidean_distance_normed(vec1, vec2):\n",
    "    if len(vec1) == 0:\n",
    "        return 0.0\n",
    "    euc_distance = euclidean_distances(vec1, vec2)[0][0]\n",
    "    return 1.0 / (1.0 + euc_distance)"
   ]
  },
  {
   "cell_type": "code",
   "execution_count": 89,
   "metadata": {
    "collapsed": false
   },
   "outputs": [],
   "source": [
    "#Task t3a:\n",
    "# In this task, you want to compute the similarity between two items\n",
    "#  which in this case means ratings_df\n",
    "# You can use code from 2c except that you must now call euclidean_distance_normed\n",
    "#  when computing the distance\n",
    "\n",
    "def calculate_similarity_normed(movie_name_1, movie_name_2, min_common_users=0):\n",
    "    movie1 = movie_name_to_id_dictionary[movie_name_1]\n",
    "    movie2 = movie_name_to_id_dictionary[movie_name_2]\n",
    "\n",
    "    #This is the set of UNIQUE user ids  who reviewed  movie1\n",
    "    users_who_rated_movie1 = set((movielens_df[(movielens_df.MovieId == movie1)].UserId).tolist())\n",
    "    \n",
    "    #This is the set of UNIQUE user ids  who reviewed  movie2\n",
    "    users_who_rated_movie2 = set((movielens_df[(movielens_df.MovieId == movie2)].UserId).tolist())\n",
    "     \n",
    "    #Compute the common users who rated both movies: \n",
    "    # hint convert both to set and do the intersection\n",
    "    common_users = users_who_rated_movie1.intersection(users_who_rated_movie2)\n",
    "\n",
    "    #Using the code you wrote in t2a, get the reviews for the movies and common users\n",
    "    movie1_reviews = get_movie_reviews(movie1, common_users)\n",
    "    movie2_reviews = get_movie_reviews(movie2, common_users)\n",
    "    \n",
    "    #Do not change below\n",
    "    \n",
    "    #Now you have the data frame for both movies\n",
    "    # Use the euclidean_distances function from sklean (imported already)\n",
    "    # to compute the distance between their rating values\n",
    "    distance = euclidean_distance_normed(movie1_reviews['Rating'].values, movie2_reviews['Rating'].values)\n",
    "\n",
    "    if len(common_users) < min_common_users:\n",
    "        return 0.0\n",
    "    return distance"
   ]
  },
  {
   "cell_type": "code",
   "execution_count": 90,
   "metadata": {
    "collapsed": false
   },
   "outputs": [
    {
     "name": "stdout",
     "output_type": "stream",
     "text": [
      "0.0684862527649\n",
      "0.138026263116\n",
      "0.195194101601\n"
     ]
    }
   ],
   "source": [
    "#Do not change below\n",
    "print calculate_similarity_normed(\"Toy Story (1995)\", \"GoldenEye (1995)\")\n",
    "print calculate_similarity_normed(\"GoldenEye (1995)\", \"Tomorrow Never Dies (1997)\")\n",
    "print calculate_similarity_normed(\"Batman Forever (1995)\", \"Batman & Robin (1997)\")"
   ]
  },
  {
   "cell_type": "code",
   "execution_count": 91,
   "metadata": {
    "collapsed": true
   },
   "outputs": [],
   "source": [
    "#Do not change below\n",
    "\n",
    "#We are now going to create item-item similarity database\n",
    "# Since our data is \"small\", we will use a non-traditional approach of using nested hashes\n",
    "# In real-life, using something like databases or other data structures is far more preferable\n",
    "\n",
    "#Here is the high level structure\n",
    "#{\n",
    "#    movie_name_1:  \n",
    "#    { \n",
    "#        movie_name_2: similarity_between_movie_1_and_2, \n",
    "#        movie_name_3: similarity_between_movie_1_and_3, \n",
    "#        ....\n",
    "#        movie_name_n: similarity_between_movie_1_and_n\n",
    "#    },\n",
    "#    movie_name_2:\n",
    "#    {\n",
    "#        movie_name_1: similarity_between_movie_2_and_1, \n",
    "#        movie_name_3: similarity_between_movie_2_and_3, \n",
    "#        ....\n",
    "#        movie_name_n: similarity_between_movie_2_and_n\n",
    "#    },\n",
    "#    ....\n",
    "#    movie_name_n:\n",
    "#    {\n",
    "#        movie_name_1: similarity_between_movie_n_and_1, \n",
    "#        movie_name_2: similarity_between_movie_n_and_2, \n",
    "#        ....\n",
    "#        movie_name_n-1: similarity_between_movie_n_and_n-1\n",
    "#    },\n",
    "#}    \n",
    "    \n",
    "\n",
    "#Here is how to use this data structuere:\n",
    "\n",
    "#To get similarity between movies\n",
    "#   data[movie1][movie2]\n",
    "#To get similarity between one movie and all others\n",
    "#   data[movie1]"
   ]
  },
  {
   "cell_type": "code",
   "execution_count": 92,
   "metadata": {
    "collapsed": true
   },
   "outputs": [],
   "source": [
    "#DO not change below\n",
    "#This hash stores the movie to movie \n",
    "# as described above\n",
    "movie_similarity_hash = defaultdict(dict)"
   ]
  },
  {
   "cell_type": "code",
   "execution_count": 93,
   "metadata": {
    "collapsed": true
   },
   "outputs": [],
   "source": [
    "#Item based filtering is expensive as you need to compute similarity of all pairs of items\n",
    "# for this dataset it is 1682*1682 ~ 28 lakh pairs or 2.8 million\n",
    "# running all of them might take hours and close to a day\n",
    "# instead let us run on a smaller dataset\n",
    "# specifically, let us only focus on the top-250 movies based on ratings\n",
    "# which is more manageable\n",
    "\n",
    "\n",
    "#Task t3b: \n",
    "# Get the top-k movie names with most ratings\n",
    "#Hint: use Counter class\n",
    "\n",
    "def top_k_movie_names(k):\n",
    "    movie_ratings_counter = Counter()\n",
    "    \n",
    "    #Your code below\n",
    "    movie_ratings_counter.update(movielens_df['Title'].values)\n",
    "\n",
    "    return movie_ratings_counter.most_common(k)"
   ]
  },
  {
   "cell_type": "code",
   "execution_count": 94,
   "metadata": {
    "collapsed": false
   },
   "outputs": [
    {
     "name": "stdout",
     "output_type": "stream",
     "text": [
      "Top-10 [('Star Wars (1977)', 583), ('Contact (1997)', 509), ('Fargo (1996)', 508), ('Return of the Jedi (1983)', 507), ('Liar Liar (1997)', 485), ('English Patient, The (1996)', 481), ('Scream (1996)', 478), ('Toy Story (1995)', 452), ('Air Force One (1997)', 431), ('Independence Day (ID4) (1996)', 429)] \n",
      "\n",
      "Top-25 [('Star Wars (1977)', 583), ('Contact (1997)', 509), ('Fargo (1996)', 508), ('Return of the Jedi (1983)', 507), ('Liar Liar (1997)', 485), ('English Patient, The (1996)', 481), ('Scream (1996)', 478), ('Toy Story (1995)', 452), ('Air Force One (1997)', 431), ('Independence Day (ID4) (1996)', 429), ('Raiders of the Lost Ark (1981)', 420), ('Godfather, The (1972)', 413), ('Pulp Fiction (1994)', 394), ('Twelve Monkeys (1995)', 392), ('Silence of the Lambs, The (1991)', 390), ('Jerry Maguire (1996)', 384), ('Chasing Amy (1997)', 379), ('Rock, The (1996)', 378), ('Empire Strikes Back, The (1980)', 367), ('Star Trek: First Contact (1996)', 365), ('Titanic (1997)', 350), ('Back to the Future (1985)', 350), ('Mission: Impossible (1996)', 344), ('Fugitive, The (1993)', 336), ('Indiana Jones and the Last Crusade (1989)', 331)] \n",
      "\n"
     ]
    }
   ],
   "source": [
    "#Do not change below\n",
    "print \"Top-10\", top_k_movie_names(10), \"\\n\"\n",
    "print \"Top-25\", top_k_movie_names(25), \"\\n\""
   ]
  },
  {
   "cell_type": "code",
   "execution_count": 95,
   "metadata": {
    "collapsed": false
   },
   "outputs": [],
   "source": [
    "#Do not change below\n",
    "top_250_movie_names = [item[0] for item in top_k_movie_names(250)]"
   ]
  },
  {
   "cell_type": "code",
   "execution_count": 96,
   "metadata": {
    "collapsed": false
   },
   "outputs": [],
   "source": [
    "#Task t3c:\n",
    "#Use the following logic\n",
    "#  for each movie in movie_names:\n",
    "#    for all other movies in movie_names:\n",
    "#      compute similarity between  two movies using calculate_similarity_normed\n",
    "#      remember to pass min_common_users to that function\n",
    "#  note that movie_similarity_hash is a defaultdict \n",
    "#  so similarity between movie1 and movie2 can be set as movie_similarity_hash[movie1][movie2]\n",
    "#  btw, similarity in our case is commutative. \n",
    "#   i.e. similarity(movie1, movie2) = similarity(movie2, movie1)\n",
    "#   so do not call the function twice !\n",
    "# movie_names is an array that lists the movies for which you have to compute pairwise similarity\n",
    "def compute_movie_to_movie_similarity(movie_names, min_common_users=0):\n",
    "    #Your code below\n",
    "    for movie in movie_names:\n",
    "        other_movies = movie_names[movie_names.index(movie)+1:]\n",
    "        for other_movie in other_movies:\n",
    "            movie_similarity_hash[movie][other_movie] = calculate_similarity_normed(movie, other_movie, min_common_users)\n",
    "            movie_similarity_hash[other_movie][movie] = movie_similarity_hash[movie][other_movie]"
   ]
  },
  {
   "cell_type": "code",
   "execution_count": 97,
   "metadata": {
    "collapsed": false
   },
   "outputs": [
    {
     "data": {
      "text/plain": [
       "{'Air Force One (1997)': 0.05697049581409102,\n",
       " 'Contact (1997)': 0.046577726053728993,\n",
       " 'English Patient, The (1996)': 0.047393923678019305,\n",
       " 'Fargo (1996)': 0.039703378843999403,\n",
       " 'Independence Day (ID4) (1996)': 0.040932023773211611,\n",
       " 'Liar Liar (1997)': 0.045702558661657698,\n",
       " 'Return of the Jedi (1983)': 0.046005690800297719,\n",
       " 'Scream (1996)': 0.048137743418679969,\n",
       " 'Star Wars (1977)': 0.040475114406879495}"
      ]
     },
     "metadata": {},
     "output_type": "display_data"
    },
    {
     "data": {
      "text/plain": [
       "{'Air Force One (1997)': 0.047007646177349489,\n",
       " 'Contact (1997)': 0.045210588948186241,\n",
       " 'English Patient, The (1996)': 0.04318065266563334,\n",
       " 'Fargo (1996)': 0.038852101069895194,\n",
       " 'Independence Day (ID4) (1996)': 0.038974721601113524,\n",
       " 'Liar Liar (1997)': 0.037548797615781393,\n",
       " 'Scream (1996)': 0.041895006229997207,\n",
       " 'Star Wars (1977)': 0.052554803633703538,\n",
       " 'Toy Story (1995)': 0.046005690800297719}"
      ]
     },
     "metadata": {},
     "output_type": "display_data"
    },
    {
     "name": "stdout",
     "output_type": "stream",
     "text": [
      "0.0409320237732\n"
     ]
    }
   ],
   "source": [
    "#Do not change below\n",
    "\n",
    "#Let us first test if your code above is correct by testing against a small subset of data\n",
    "movie_similarity_hash = defaultdict(dict)\n",
    "# let use the top-10 movies\n",
    "compute_movie_to_movie_similarity(top_250_movie_names[:10], min_common_users=0)\n",
    "\n",
    "#Get similarity with \n",
    "display(movie_similarity_hash[\"Toy Story (1995)\"])\n",
    "display(movie_similarity_hash['Return of the Jedi (1983)'])\n",
    "\n",
    "print movie_similarity_hash[\"Toy Story (1995)\"][\"Independence Day (ID4) (1996)\"]"
   ]
  },
  {
   "cell_type": "code",
   "execution_count": 62,
   "metadata": {
    "collapsed": false
   },
   "outputs": [],
   "source": [
    "#Do not change below\n",
    "#Let us now test against top-250 most popular movies\n",
    "#This might take 10-20 mins to run!\n",
    "movie_similarity_hash = defaultdict(dict)\n",
    "compute_movie_to_movie_similarity(top_250_movie_names, min_common_users=25)\n"
   ]
  },
  {
   "cell_type": "code",
   "execution_count": 98,
   "metadata": {
    "collapsed": false
   },
   "outputs": [],
   "source": [
    "#Do not change below\n",
    "#Do this if you want to persist the data \n",
    "\n",
    "# Let us persist the movie-movie similarity data structure \n",
    "# that way you dont need to re-run the whole thing\n",
    "#pickle is a serialization library in Python\n",
    "# To persist/serialize, use the following line\n",
    "pickle.dump(movie_similarity_hash, open(\"movie_similarity.pickle\", \"wb\"))\n",
    "# To deserialize, uncomment the following line \n",
    "#movie_similarity_hash = pickle.load( open( \"movie_similarity.pickle\", \"rb\" ) )\n"
   ]
  },
  {
   "cell_type": "code",
   "execution_count": 99,
   "metadata": {
    "collapsed": false
   },
   "outputs": [
    {
     "name": "stdout",
     "output_type": "stream",
     "text": [
      "Top-10 most similar movies for  Star Wars (1977)  : [('Return of the Jedi (1983)', 0.052554803633703538), ('Air Force One (1997)', 0.040719202127760812), ('Toy Story (1995)', 0.040475114406879495), ('Contact (1997)', 0.039223534937949549), ('Fargo (1996)', 0.036879779316301306), ('English Patient, The (1996)', 0.036622131513649507), ('Scream (1996)', 0.035342322752570376), ('Independence Day (ID4) (1996)', 0.031984144153926898), ('Liar Liar (1997)', 0.030433002607641011)]\n",
      "\n",
      "\n",
      "Top-10 most similar movies for  Contact (1997)  : [('Toy Story (1995)', 0.046577726053728993), ('Return of the Jedi (1983)', 0.045210588948186241), ('Independence Day (ID4) (1996)', 0.043738388069340557), ('Fargo (1996)', 0.042603581456833794), ('Air Force One (1997)', 0.041516527746673665), ('Star Wars (1977)', 0.039223534937949549), ('Scream (1996)', 0.037968360247488071), ('English Patient, The (1996)', 0.03708991080459783), ('Liar Liar (1997)', 0.03469709636026793)]\n",
      "\n",
      "\n",
      "Top-10 most similar movies for  Fargo (1996)  : [('Air Force One (1997)', 0.044364274791658782), ('Contact (1997)', 0.042603581456833794), ('English Patient, The (1996)', 0.04006683612813592), ('Toy Story (1995)', 0.039703378843999403), ('Return of the Jedi (1983)', 0.038852101069895194), ('Star Wars (1977)', 0.036879779316301306), ('Scream (1996)', 0.035183246872974937), ('Independence Day (ID4) (1996)', 0.032327663792392776), ('Liar Liar (1997)', 0.031344941594051247)]\n",
      "\n",
      "\n",
      "Top-10 most similar movies for  Return of the Jedi (1983)  : [('Star Wars (1977)', 0.052554803633703538), ('Air Force One (1997)', 0.047007646177349489), ('Toy Story (1995)', 0.046005690800297719), ('Contact (1997)', 0.045210588948186241), ('English Patient, The (1996)', 0.04318065266563334), ('Scream (1996)', 0.041895006229997207), ('Independence Day (ID4) (1996)', 0.038974721601113524), ('Fargo (1996)', 0.038852101069895194), ('Liar Liar (1997)', 0.037548797615781393)]\n",
      "\n",
      "\n",
      "Top-10 most similar movies for  Liar Liar (1997)  : [('Toy Story (1995)', 0.045702558661657698), ('Independence Day (ID4) (1996)', 0.043521288331609773), ('Air Force One (1997)', 0.041075799742385115), ('Scream (1996)', 0.037714925606686385), ('Return of the Jedi (1983)', 0.037548797615781393), ('English Patient, The (1996)', 0.035737930022646608), ('Contact (1997)', 0.03469709636026793), ('Fargo (1996)', 0.031344941594051247), ('Star Wars (1977)', 0.030433002607641011)]\n",
      "\n",
      "\n",
      "Top-10 most similar movies for  English Patient, The (1996)  : [('Toy Story (1995)', 0.047393923678019305), ('Independence Day (ID4) (1996)', 0.043651153027571284), ('Return of the Jedi (1983)', 0.04318065266563334), ('Air Force One (1997)', 0.040406188586280346), ('Fargo (1996)', 0.04006683612813592), ('Contact (1997)', 0.03708991080459783), ('Star Wars (1977)', 0.036622131513649507), ('Scream (1996)', 0.035952890467386971), ('Liar Liar (1997)', 0.035737930022646608)]\n",
      "\n",
      "\n",
      "Top-10 most similar movies for  Scream (1996)  : [('Toy Story (1995)', 0.048137743418679969), ('Independence Day (ID4) (1996)', 0.046630811271608806), ('Return of the Jedi (1983)', 0.041895006229997207), ('Air Force One (1997)', 0.041368023232300252), ('Contact (1997)', 0.037968360247488071), ('Liar Liar (1997)', 0.037714925606686385), ('English Patient, The (1996)', 0.035952890467386971), ('Star Wars (1977)', 0.035342322752570376), ('Fargo (1996)', 0.035183246872974937)]\n",
      "\n",
      "\n",
      "Top-10 most similar movies for  Toy Story (1995)  : [('Air Force One (1997)', 0.05697049581409102), ('Scream (1996)', 0.048137743418679969), ('English Patient, The (1996)', 0.047393923678019305), ('Contact (1997)', 0.046577726053728993), ('Return of the Jedi (1983)', 0.046005690800297719), ('Liar Liar (1997)', 0.045702558661657698), ('Independence Day (ID4) (1996)', 0.040932023773211611), ('Star Wars (1977)', 0.040475114406879495), ('Fargo (1996)', 0.039703378843999403)]\n",
      "\n",
      "\n",
      "Top-10 most similar movies for  Air Force One (1997)  : [('Independence Day (ID4) (1996)', 0.058501848602446054), ('Toy Story (1995)', 0.05697049581409102), ('Return of the Jedi (1983)', 0.047007646177349489), ('Fargo (1996)', 0.044364274791658782), ('Contact (1997)', 0.041516527746673665), ('Scream (1996)', 0.041368023232300252), ('Liar Liar (1997)', 0.041075799742385115), ('Star Wars (1977)', 0.040719202127760812), ('English Patient, The (1996)', 0.040406188586280346)]\n",
      "\n",
      "\n",
      "Top-10 most similar movies for  Independence Day (ID4) (1996)  : [('Air Force One (1997)', 0.058501848602446054), ('Scream (1996)', 0.046630811271608806), ('Contact (1997)', 0.043738388069340557), ('English Patient, The (1996)', 0.043651153027571284), ('Liar Liar (1997)', 0.043521288331609773), ('Toy Story (1995)', 0.040932023773211611), ('Return of the Jedi (1983)', 0.038974721601113524), ('Fargo (1996)', 0.032327663792392776), ('Star Wars (1977)', 0.031984144153926898)]\n",
      "\n",
      "\n"
     ]
    }
   ],
   "source": [
    "#Do not change below\n",
    "for movie_name in top_250_movie_names[:10]:\n",
    "    print \"Top-10 most similar movies for \", movie_name, \" :\", \n",
    "    print sorted(movie_similarity_hash[movie_name].items(), key=operator.itemgetter(1), reverse=True)[:10]\n",
    "    print \"\\n\"\n"
   ]
  },
  {
   "cell_type": "code",
   "execution_count": 111,
   "metadata": {
    "collapsed": false
   },
   "outputs": [
    {
     "name": "stdout",
     "output_type": "stream",
     "text": [
      "\n"
     ]
    }
   ],
   "source": [
    "#Task t3d\n",
    "\n",
    "#Before doing t3d, please complete t4a so that user_rating_hash is available\n",
    "# this will make the code below easier\n",
    "\n",
    "#In this task, we are going to predict the rating of a user u for a movie m using item based collaborative filtering\n",
    "#Here is the high level logic:\n",
    "# for each item i rated by this user:\n",
    "#    s = similarity between i and input movie m \n",
    "#    if similarity between i and m is 0, ignore this item \n",
    "#    compute weighted rating for m based on i as rating for i * s\n",
    "# compute the predicted rating as sum of all weighted ratings / sum of all similarities\n",
    "\n",
    "def predict_rating_for_movie_icf(movie_similarity_hash, input_user_id, input_movie_name, movies_considered):\n",
    "    total_weighted_rating = 0.0\n",
    "    total_similarity= 0.0\n",
    "        \n",
    "    #Hint: movie_similarity_hash is a nested hash where user id is key and \n",
    "    #  all their rating as a dictionary  \n",
    "    # this dictionary is ordered as moviename: rating\n",
    "\n",
    "    #if this user has already rated the movie, return that rating\n",
    "    if input_movie_name in user_rating_hash[input_user_id].keys():\n",
    "        return user_rating_hash[input_user_id][input_movie_name]\n",
    "    \n",
    "    #For each movie the user has rated\n",
    "\n",
    "        #if user rated some movie, but it is not in the subset of movies that we computed pairwise similarity\n",
    "        # such as top-250, then do not consider it either\n",
    "        # for this task, the input is in movies_considered \n",
    "        \n",
    "        #compute similarity between movies\n",
    "        #dont recompute = use the hash\n",
    "        \n",
    "        #Reject item if similarity is 0\n",
    "                     \n",
    "        #Compute weighted rating\n",
    "        \n",
    "        #update total_weighted_rating and total_similarity\n",
    "        \n",
    "    for movie in user_rating_hash[input_user_id]:\n",
    "        if movie not in movies_considered:\n",
    "            continue\n",
    "        else:\n",
    "            similarity = movie_similarity_hash[input_movie_name][movie]\n",
    "            if similarity == 0:\n",
    "                pass\n",
    "            else:\n",
    "                weighted_rating = similarity * user_rating_hash[input_user_id][movie]\n",
    "                total_weighted_rating += weighted_rating\n",
    "                total_similarity += similarity\n",
    "            \n",
    "    #Do not change below\n",
    "    if total_similarity == 0.0:\n",
    "        return 0.0\n",
    "    \n",
    "    return total_weighted_rating / total_similarity"
   ]
  },
  {
   "cell_type": "code",
   "execution_count": 128,
   "metadata": {
    "collapsed": false
   },
   "outputs": [
    {
     "name": "stdout",
     "output_type": "stream",
     "text": [
      " 1"
     ]
    },
    {
     "ename": "KeyError",
     "evalue": "'Birdcage, The (1996)'",
     "output_type": "error",
     "traceback": [
      "\u001b[1;31m---------------------------------------------------------------------------\u001b[0m",
      "\u001b[1;31mKeyError\u001b[0m                                  Traceback (most recent call last)",
      "\u001b[1;32m<ipython-input-128-00ca6bdf38b6>\u001b[0m in \u001b[0;36m<module>\u001b[1;34m()\u001b[0m\n\u001b[0;32m      5\u001b[0m                         round(predict_rating_for_movie_icf(movie_similarity_hash, user_id, movie_name, top_250_movie_names),2))\n\u001b[0;32m      6\u001b[0m                        \u001b[1;32mfor\u001b[0m \u001b[0mmovie_name\u001b[0m \u001b[1;32min\u001b[0m \u001b[0mtop_250_movie_names\u001b[0m\u001b[1;33m[\u001b[0m\u001b[1;33m:\u001b[0m\u001b[1;36m20\u001b[0m\u001b[1;33m]\u001b[0m\u001b[1;33m\u001b[0m\u001b[0m\n\u001b[1;32m----> 7\u001b[1;33m                         if movie_name not in user_rating_hash[user_id]]\n\u001b[0m\u001b[0;32m      8\u001b[0m \u001b[1;33m\u001b[0m\u001b[0m\n\u001b[0;32m      9\u001b[0m \u001b[1;31m#print movie_name, predict_rating_for_movie_icf(movie_similarity_hash, 1, 'Liar Liar (1997)', min_common_users=25)\u001b[0m\u001b[1;33m\u001b[0m\u001b[1;33m\u001b[0m\u001b[0m\n",
      "\u001b[1;32m<ipython-input-111-a92385cb77c6>\u001b[0m in \u001b[0;36mpredict_rating_for_movie_icf\u001b[1;34m(movie_similarity_hash, input_user_id, input_movie_name, movies_considered)\u001b[0m\n\u001b[0;32m     43\u001b[0m             \u001b[1;32mcontinue\u001b[0m\u001b[1;33m\u001b[0m\u001b[0m\n\u001b[0;32m     44\u001b[0m         \u001b[1;32melse\u001b[0m\u001b[1;33m:\u001b[0m\u001b[1;33m\u001b[0m\u001b[0m\n\u001b[1;32m---> 45\u001b[1;33m             \u001b[0msimilarity\u001b[0m \u001b[1;33m=\u001b[0m \u001b[0mmovie_similarity_hash\u001b[0m\u001b[1;33m[\u001b[0m\u001b[0minput_movie_name\u001b[0m\u001b[1;33m]\u001b[0m\u001b[1;33m[\u001b[0m\u001b[0mmovie\u001b[0m\u001b[1;33m]\u001b[0m\u001b[1;33m\u001b[0m\u001b[0m\n\u001b[0m\u001b[0;32m     46\u001b[0m             \u001b[1;32mif\u001b[0m \u001b[0msimilarity\u001b[0m \u001b[1;33m==\u001b[0m \u001b[1;36m0\u001b[0m\u001b[1;33m:\u001b[0m\u001b[1;33m\u001b[0m\u001b[0m\n\u001b[0;32m     47\u001b[0m                 \u001b[1;32mpass\u001b[0m\u001b[1;33m\u001b[0m\u001b[0m\n",
      "\u001b[1;31mKeyError\u001b[0m: 'Birdcage, The (1996)'"
     ]
    }
   ],
   "source": [
    "#Do not change below\n",
    "#Let us compute the rating for first 5 users for the top-20 movies that they have not seen\n",
    "for user_id in range(1, 5+1):\n",
    "    print user_id, [ (movie_name, \n",
    "                        round(predict_rating_for_movie_icf(movie_similarity_hash, user_id, movie_name, top_250_movie_names),2))\n",
    "                       for movie_name in top_250_movie_names[:20] \n",
    "                        if movie_name not in user_rating_hash[user_id]]\n",
    "           \n",
    "#print movie_name, predict_rating_for_movie_icf(movie_similarity_hash, 1, 'Liar Liar (1997)', min_common_users=25)\n",
    "\n"
   ]
  },
  {
   "cell_type": "code",
   "execution_count": 102,
   "metadata": {
    "collapsed": false
   },
   "outputs": [
    {
     "name": "stdout",
     "output_type": "stream",
     "text": [
      "\n"
     ]
    }
   ],
   "source": [
    "#Task t3e: \n",
    "#Here is the pseudocode for recommending movies\n",
    "# for each movie this user has not rated in movies_considered:\n",
    "#           predict rating for this movie and this user using t4d\n",
    "#  return the top-k movies\n",
    "def recommend_movies_icf(input_user_id, movies_considered, movie_similarity_hash,\n",
    "                             user_rating_hash, k=10, min_common_movies=5):\n",
    "    predicted_ratings = []\n",
    "    \n",
    "    #Your code here\n",
    "    for movie in [m for m in movies_considered if m not in user_rating_hash[input_user_id]]:\n",
    "        predicted_ratings.append((predict_rating_for_movie_icf(movie_similarity_hash, input_user_id, movie, top_250_movie_names), movie))\n",
    "    \n",
    "    return sorted(predicted_ratings, reverse=True)[:k]"
   ]
  },
  {
   "cell_type": "code",
   "execution_count": 127,
   "metadata": {
    "collapsed": false
   },
   "outputs": [
    {
     "name": "stdout",
     "output_type": "stream",
     "text": [
      "1"
     ]
    },
    {
     "ename": "KeyError",
     "evalue": "'Birdcage, The (1996)'",
     "output_type": "error",
     "traceback": [
      "\u001b[1;31m---------------------------------------------------------------------------\u001b[0m",
      "\u001b[1;31mKeyError\u001b[0m                                  Traceback (most recent call last)",
      "\u001b[1;32m<ipython-input-127-0c804b2075eb>\u001b[0m in \u001b[0;36m<module>\u001b[1;34m()\u001b[0m\n\u001b[0;32m      4\u001b[0m \u001b[1;32mfor\u001b[0m \u001b[0muser_id\u001b[0m \u001b[1;32min\u001b[0m \u001b[0mrange\u001b[0m\u001b[1;33m(\u001b[0m\u001b[1;36m1\u001b[0m\u001b[1;33m,\u001b[0m\u001b[1;36m11\u001b[0m\u001b[1;33m)\u001b[0m\u001b[1;33m:\u001b[0m\u001b[1;33m\u001b[0m\u001b[0m\n\u001b[0;32m      5\u001b[0m     print user_id, recommend_movies_icf(user_id, top_250_movie_names, movie_similarity_hash, \n\u001b[1;32m----> 6\u001b[1;33m                                user_rating_hash, k=10, min_common_movies=5)\n\u001b[0m",
      "\u001b[1;32m<ipython-input-102-bb62fdad0552>\u001b[0m in \u001b[0;36mrecommend_movies_icf\u001b[1;34m(input_user_id, movies_considered, movie_similarity_hash, user_rating_hash, k, min_common_movies)\u001b[0m\n\u001b[0;32m     10\u001b[0m     \u001b[1;31m#Your code here\u001b[0m\u001b[1;33m\u001b[0m\u001b[1;33m\u001b[0m\u001b[0m\n\u001b[0;32m     11\u001b[0m     \u001b[1;32mfor\u001b[0m \u001b[0mmovie\u001b[0m \u001b[1;32min\u001b[0m \u001b[1;33m[\u001b[0m\u001b[0mm\u001b[0m \u001b[1;32mfor\u001b[0m \u001b[0mm\u001b[0m \u001b[1;32min\u001b[0m \u001b[0mmovies_considered\u001b[0m \u001b[1;32mif\u001b[0m \u001b[0mm\u001b[0m \u001b[1;32mnot\u001b[0m \u001b[1;32min\u001b[0m \u001b[0muser_rating_hash\u001b[0m\u001b[1;33m[\u001b[0m\u001b[0minput_user_id\u001b[0m\u001b[1;33m]\u001b[0m\u001b[1;33m]\u001b[0m\u001b[1;33m:\u001b[0m\u001b[1;33m\u001b[0m\u001b[0m\n\u001b[1;32m---> 12\u001b[1;33m         \u001b[0mpredicted_ratings\u001b[0m\u001b[1;33m.\u001b[0m\u001b[0mappend\u001b[0m\u001b[1;33m(\u001b[0m\u001b[1;33m(\u001b[0m\u001b[0mpredict_rating_for_movie_icf\u001b[0m\u001b[1;33m(\u001b[0m\u001b[0mmovie_similarity_hash\u001b[0m\u001b[1;33m,\u001b[0m \u001b[0minput_user_id\u001b[0m\u001b[1;33m,\u001b[0m \u001b[0mmovie\u001b[0m\u001b[1;33m,\u001b[0m \u001b[0mtop_250_movie_names\u001b[0m\u001b[1;33m)\u001b[0m\u001b[1;33m,\u001b[0m \u001b[0mmovie\u001b[0m\u001b[1;33m)\u001b[0m\u001b[1;33m)\u001b[0m\u001b[1;33m\u001b[0m\u001b[0m\n\u001b[0m\u001b[0;32m     13\u001b[0m \u001b[1;33m\u001b[0m\u001b[0m\n\u001b[0;32m     14\u001b[0m     \u001b[1;32mreturn\u001b[0m \u001b[0msorted\u001b[0m\u001b[1;33m(\u001b[0m\u001b[0mpredicted_ratings\u001b[0m\u001b[1;33m,\u001b[0m \u001b[0mreverse\u001b[0m\u001b[1;33m=\u001b[0m\u001b[0mTrue\u001b[0m\u001b[1;33m)\u001b[0m\u001b[1;33m[\u001b[0m\u001b[1;33m:\u001b[0m\u001b[0mk\u001b[0m\u001b[1;33m]\u001b[0m\u001b[1;33m\u001b[0m\u001b[0m\n",
      "\u001b[1;32m<ipython-input-111-a92385cb77c6>\u001b[0m in \u001b[0;36mpredict_rating_for_movie_icf\u001b[1;34m(movie_similarity_hash, input_user_id, input_movie_name, movies_considered)\u001b[0m\n\u001b[0;32m     43\u001b[0m             \u001b[1;32mcontinue\u001b[0m\u001b[1;33m\u001b[0m\u001b[0m\n\u001b[0;32m     44\u001b[0m         \u001b[1;32melse\u001b[0m\u001b[1;33m:\u001b[0m\u001b[1;33m\u001b[0m\u001b[0m\n\u001b[1;32m---> 45\u001b[1;33m             \u001b[0msimilarity\u001b[0m \u001b[1;33m=\u001b[0m \u001b[0mmovie_similarity_hash\u001b[0m\u001b[1;33m[\u001b[0m\u001b[0minput_movie_name\u001b[0m\u001b[1;33m]\u001b[0m\u001b[1;33m[\u001b[0m\u001b[0mmovie\u001b[0m\u001b[1;33m]\u001b[0m\u001b[1;33m\u001b[0m\u001b[0m\n\u001b[0m\u001b[0;32m     46\u001b[0m             \u001b[1;32mif\u001b[0m \u001b[0msimilarity\u001b[0m \u001b[1;33m==\u001b[0m \u001b[1;36m0\u001b[0m\u001b[1;33m:\u001b[0m\u001b[1;33m\u001b[0m\u001b[0m\n\u001b[0;32m     47\u001b[0m                 \u001b[1;32mpass\u001b[0m\u001b[1;33m\u001b[0m\u001b[0m\n",
      "\u001b[1;31mKeyError\u001b[0m: 'Birdcage, The (1996)'"
     ]
    }
   ],
   "source": [
    "#Do not change below:\n",
    "\n",
    "#Let us predict top-5 movies for first 10 users\n",
    "for user_id in range(1,11):\n",
    "    print user_id, recommend_movies_icf(user_id, top_250_movie_names, movie_similarity_hash, \n",
    "                               user_rating_hash, k=10, min_common_movies=5)"
   ]
  },
  {
   "cell_type": "markdown",
   "metadata": {},
   "source": [
    "#Task 4: User based Collaborative Filtering\n",
    "\n",
    "In this task, let us try to perform user based collaborative filtering. "
   ]
  },
  {
   "cell_type": "code",
   "execution_count": 104,
   "metadata": {
    "collapsed": true
   },
   "outputs": [],
   "source": [
    "#In order to simplify the coding, let us create a nested hash structure to store the user-rating data\n",
    "# It will look as follows:\n",
    "#{\n",
    "#    u1: {movie_name_1:rating1, movie_name_2:rating2, ....}, \n",
    "#    ....\n",
    "#    un: {movie_name_1:rating1, movie_name_2:rating2, ....}, \n",
    "#}\n",
    "\n",
    "#Of course, we will only store the movies that the user rated\n",
    "#Use the all_movie_names to convert movie id to movie name\n",
    "# remember that Movielens uses 1 based indexing\n",
    "# so the name of movieid i is in all_movie_names[i-1]"
   ]
  },
  {
   "cell_type": "code",
   "execution_count": 123,
   "metadata": {
    "collapsed": false
   },
   "outputs": [],
   "source": [
    "#Task t4a\n",
    "#Create the data structure as discussed above\n",
    "# here is the logic:\n",
    "# for each line in file ml-100k/u.data:\n",
    "#   set user_rating_hash[user][movie] = rating\n",
    "# read the instructions above again!\n",
    "\n",
    "def compute_user_rating_hash():\n",
    "    user_rating_hash = defaultdict(dict)\n",
    "    \n",
    "    #Your code below    \n",
    "    all_users = ratings_df.UserId.tolist()\n",
    "    \n",
    "    for user in all_users:\n",
    "        movie_names = [all_movie_names[i-1] for i in ratings_df[(ratings_df.UserId == user)].MovieId.tolist()]\n",
    "        ratings = ratings_df[(ratings_df.UserId == user)].Rating.tolist()\n",
    "        user_rating_hash[user] = dict(zip(movie_names, ratings))\n",
    "    \n",
    "    return user_rating_hash"
   ]
  },
  {
   "cell_type": "code",
   "execution_count": 124,
   "metadata": {
    "collapsed": true
   },
   "outputs": [],
   "source": [
    "#Do not change below\n",
    "user_rating_hash = compute_user_rating_hash()"
   ]
  },
  {
   "cell_type": "code",
   "execution_count": 107,
   "metadata": {
    "collapsed": false
   },
   "outputs": [
    {
     "name": "stdout",
     "output_type": "stream",
     "text": [
      "943\n",
      "[271, 61, 53, 24, 175, 208, 401, 59, 22, 184, 181, 51, 632, 98, 103, 140, 28, 277, 20, 48]\n"
     ]
    },
    {
     "data": {
      "text/plain": [
       "{'Air Force One (1997)': 5,\n",
       " 'Assignment, The (1997)': 5,\n",
       " 'Blues Brothers 2000 (1998)': 5,\n",
       " 'Client, The (1994)': 3,\n",
       " 'Conspiracy Theory (1997)': 3,\n",
       " 'Contact (1997)': 5,\n",
       " 'Cop Land (1997)': 5,\n",
       " 'Desperate Measures (1998)': 5,\n",
       " 'Event Horizon (1997)': 4,\n",
       " 'In & Out (1997)': 5,\n",
       " 'Incognito (1997)': 5,\n",
       " 'Indiana Jones and the Last Crusade (1989)': 3,\n",
       " 'Liar Liar (1997)': 5,\n",
       " 'Lost Highway (1997)': 5,\n",
       " 'Mimic (1997)': 3,\n",
       " \"One Flew Over the Cuckoo's Nest (1975)\": 4,\n",
       " 'Scream (1996)': 4,\n",
       " 'Seven (Se7en) (1995)': 4,\n",
       " 'Spawn (1997)': 2,\n",
       " 'Star Wars (1977)': 5,\n",
       " 'Starship Troopers (1997)': 4,\n",
       " \"Ulee's Gold (1997)\": 5,\n",
       " 'Wedding Singer, The (1998)': 5,\n",
       " 'Wonderland (1997)': 5}"
      ]
     },
     "metadata": {},
     "output_type": "display_data"
    }
   ],
   "source": [
    "#Do not change below\n",
    "#How many users are there?\n",
    "print len(user_rating_hash.keys())\n",
    "#How many movies did each of the first 20 users rated?\n",
    "print [len(user_rating_hash[i].keys()) for i in range(1,20+1)] \n",
    "#print the ratings of user 4\n",
    "display(user_rating_hash[4])"
   ]
  },
  {
   "cell_type": "code",
   "execution_count": 121,
   "metadata": {
    "collapsed": true
   },
   "outputs": [],
   "source": [
    "#Task t4b:\n",
    "#We need to modify our logic for computing distance\n",
    "#Here is the high level pseudocode:\n",
    "# movie1 = movie names rated by user 1\n",
    "# movie2 = movie names rated by user 2\n",
    "# common movies = set intersection of movie1 and movie2\n",
    "# if number of common movies is less than min_common_movies, return 0.0 [not 0]\n",
    "# other wise create a vector with rating for common movies only\n",
    "# compute euclidean distance between the vectors\n",
    "# return 1 / (1+euclidean distace)\n",
    "\n",
    "def compute_user_user_similarity(user_rating_hash, user_id_1, user_id_2, min_common_movies=0):\n",
    "    #Get list of movie names rated by user 1. hint use keys function [see above for usage]\n",
    "    \n",
    "    movies_rated_by_user_1 = user_rating_hash[user_id_1].keys()\n",
    "    movies_rated_by_user_2 = user_rating_hash[user_id_2].keys()\n",
    "    \n",
    "    #compute common movies\n",
    "    common_movies = set(movies_rated_by_user_1).intersection(set(movies_rated_by_user_2))\n",
    "    \n",
    "    if len(common_movies) < min_common_movies:\n",
    "        return 0.0\n",
    "    \n",
    "    common_movies = sorted(list(common_movies))\n",
    "    \n",
    "    #vector1 is the set of ratings for user1 for movies in common_movies\n",
    "    vector1 = [user_rating_hash[user_id_1][movie] for movie in common_movies]\n",
    "    #vector2 is the set of ratings for user2 for movies in common_movies\n",
    "    vector2 = [user_rating_hash[user_id_2][movie] for movie in common_movies]\n",
    "    \n",
    "    #Compute distance and return 1.0/(1.0+distance)\n",
    "    distance = euclidean_distances(vector1, vector2)[0][0]\n",
    "    return 1.0 / ( 1.0 + distance)"
   ]
  },
  {
   "cell_type": "code",
   "execution_count": 126,
   "metadata": {
    "collapsed": false
   },
   "outputs": [
    {
     "name": "stdout",
     "output_type": "stream",
     "text": [
      "[1.0, 0.16, 0.16, 0.19, 0.08, 0.07, 0.06, 0.16, 0.31, 0.1]\n"
     ]
    }
   ],
   "source": [
    "#Testing code\n",
    "print [round(compute_user_user_similarity(user_rating_hash, 1, i),2) for i in range(1, 10+1)]\n",
    "print [round(compute_user_user_similarity(user_rating_hash, 784, i),2) for i in range(1, 10+1)]"
   ]
  },
  {
   "cell_type": "code",
   "execution_count": 114,
   "metadata": {
    "collapsed": false
   },
   "outputs": [
    {
     "name": "stdout",
     "output_type": "stream",
     "text": [
      "\n"
     ]
    }
   ],
   "source": [
    "#Task t4c\n",
    "#This function finds the k-most similar users \n",
    "#Here is the high level logic:\n",
    "#  for each user in all_user_ids other than the input user id:\n",
    "#     find similarity between this user and input_user_id and store as (similarity, other userid)\n",
    "#     sort based on similarity\n",
    "#  return top-k\n",
    "# remember to pass min_common_movies\n",
    "def top_k_most_similar_users(user_rating_hash, input_user_id, all_user_ids, k=10, min_common_movies=0):\n",
    "    user_similarity = []\n",
    "        \n",
    "    #Your code below\n",
    "    for user in all_user_ids:\n",
    "        if user != input_user_id:\n",
    "            user_similarity.append((compute_user_user_similarity(user_rating_hash, input_user_id, user, min_common_movies), user))\n",
    "\n",
    "    user_similarity = sorted(user_similarity, key=lambda x: x[0])\n",
    "\n",
    "    return sorted(user_similarity, reverse=True)[:k]"
   ]
  },
  {
   "cell_type": "code",
   "execution_count": 115,
   "metadata": {
    "collapsed": false
   },
   "outputs": [
    {
     "name": "stdout",
     "output_type": "stream",
     "text": [
      "[(0.41421356237309509, 876), (0.36602540378443865, 105), (0.33333333333333331, 895), (0.33333333333333331, 282), (0.33333333333333331, 107), (0.3090169943749474, 842), (0.3090169943749474, 696), (0.3090169943749474, 520), (0.3090169943749474, 516), (0.3090169943749474, 433)]\n",
      "[(0.3090169943749474, 516), (0.3090169943749474, 433), (0.3090169943749474, 359), (0.25, 800), (0.25, 691), (0.2402530733520421, 564), (0.2402530733520421, 549), (0.2402530733520421, 46), (0.23166247903553999, 941), (0.22400923773979589, 252)]\n",
      "[(0.5, 816), (0.5, 768), (0.41421356237309509, 555), (0.41421356237309509, 4), (0.36602540378443865, 534), (0.36602540378443865, 314), (0.36602540378443865, 127), (0.36602540378443865, 38), (0.33333333333333331, 826), (0.33333333333333331, 727)]\n",
      "[(0.21712927295533244, 451), (0.16396078054371141, 782), (0.13652705949581431, 721), (0.095840694682461411, 181), (0.0, 943), (0.0, 942), (0.0, 941), (0.0, 940), (0.0, 939), (0.0, 938)]\n"
     ]
    }
   ],
   "source": [
    "#Do not change below\n",
    "all_user_ids = range(1, 943+1)\n",
    "print top_k_most_similar_users(user_rating_hash, 1, all_user_ids, 10, 5)\n",
    "print top_k_most_similar_users(user_rating_hash, 1, all_user_ids, 10, 10)\n",
    "print top_k_most_similar_users(user_rating_hash, 812, all_user_ids, 10, 5)\n",
    "print top_k_most_similar_users(user_rating_hash, 812, all_user_ids, 10, 20)"
   ]
  },
  {
   "cell_type": "code",
   "execution_count": 116,
   "metadata": {
    "collapsed": true
   },
   "outputs": [],
   "source": [
    "#Task t4d\n",
    "#In this task, we are going to predict the rating of a user for a movie using user based collaborative filtering\n",
    "#Here is the high level logic:\n",
    "# for each user u in all_user_ids:\n",
    "#    s= similarity between u and input_user_id [remember to pass min_common_movies]\n",
    "#    if similairty is 0.0 ignore u\n",
    "#    if u has not rated this movie, ignore again\n",
    "#    suppose u has rated this movie with a value of r\n",
    "#    i am now going to give a \"weighted rating\" as r*s\n",
    "# compute the predicted rating as sum of all weighted ratings / sum of all similarities\n",
    "\n",
    "def predict_rating_for_movie_ucf(user_rating_hash, input_user_id, movie_name, all_user_ids, min_common_movies=5):\n",
    "    total_weighted_rating = 0.0\n",
    "    total_similarity= 0.0\n",
    "\n",
    "    #For each user id\n",
    "    for user in all_user_ids:\n",
    "        #except input_user_id \n",
    "        if user != input_user_id:\n",
    "            #compute similarity between users\n",
    "            similarity = compute_user_user_similarity(user_rating_hash, input_user_id, user, min_common_movies)\n",
    "        \n",
    "            #Reject user if similarity is 0\n",
    "            if similarity != 0:  \n",
    "                #reject user if (s)he has not rated the movie\n",
    "                if movie_name in user_rating_hash[user].keys():\n",
    "                    #Compute weighted rating\n",
    "                    r = user_rating_hash[user][movie_name]\n",
    "                    weighted_rating = r * similarity\n",
    "                    #update total_weighted_rating and total_similarity\n",
    "                    total_weighted_rating += weighted_rating\n",
    "                    total_similarity += similarity\n",
    "            \n",
    "    #Do not change below\n",
    "    if total_similarity == 0.0:\n",
    "        return 0.0\n",
    "    \n",
    "    return total_weighted_rating / total_similarity"
   ]
  },
  {
   "cell_type": "code",
   "execution_count": 117,
   "metadata": {
    "collapsed": false
   },
   "outputs": [
    {
     "name": "stdout",
     "output_type": "stream",
     "text": [
      "user_id =  1\n",
      "[3.2, 3.1, 3.6, 3.3, 3.8, 3.8, 4.0, 3.9, 3.9, 3.9]\n",
      "[3.2, 3.1, 3.6, 3.3, 3.5, 3.8, 4.0, 3.9, 3.9, 3.8]\n",
      "\n",
      "\n",
      "user_id =  2\n",
      "[3.2, 3.1, 3.6, 3.3, 3.7, 3.8, 4.0, 3.9, 3.8, 3.9]\n",
      "[3.2, 3.1, 3.6, 3.3, 3.5, 3.8, 4.1, 3.9, 3.8, 3.8]\n",
      "\n",
      "\n",
      "user_id =  3\n",
      "[3.2, 3.0, 3.6, 3.3, 3.4, 3.8, 3.9, 3.9, 3.8, 3.9]\n",
      "[3.0, 2.8, 3.5, 3.1, 3.2, 3.8, 4.0, 3.9, 3.7, 3.8]\n",
      "\n",
      "\n",
      "user_id =  4\n",
      "[3.3, 3.0, 3.6, 3.4, 3.4, 3.8, 3.9, 3.9, 3.7, 3.9]\n",
      "[3.2, 2.9, 3.4, 3.0, 2.8, 3.8, 4.0, 3.8, 3.5, 3.9]\n",
      "\n",
      "\n",
      "user_id =  5\n",
      "[3.2, 3.0, 3.5, 3.3, 3.6, 3.8, 4.0, 3.8, 3.8, 3.8]\n",
      "[3.2, 3.0, 3.5, 3.3, 3.5, 3.8, 4.0, 3.8, 3.8, 3.8]\n",
      "\n",
      "\n"
     ]
    }
   ],
   "source": [
    "#Do not change below\n",
    "all_user_ids = range(1, 943+1)\n",
    "for user_id in range(1, 5+1):\n",
    "    print \"user_id = \", user_id\n",
    "    print [ round(predict_rating_for_movie_ucf(user_rating_hash, user_id, all_movie_names[i], all_user_ids, min_common_movies=5),1)\n",
    "          for i in range(1, 10+1)]\n",
    "    print [ round(predict_rating_for_movie_ucf(user_rating_hash, user_id, all_movie_names[i], all_user_ids, min_common_movies=10),1)\n",
    "          for i in range(1, 10+1)]\n",
    "    print \"\\n\""
   ]
  },
  {
   "cell_type": "code",
   "execution_count": 118,
   "metadata": {
    "collapsed": true
   },
   "outputs": [],
   "source": [
    "#Task t4e: \n",
    "#Here is the pseudocode for recommending movies\n",
    "# for each movie this user has not rated:\n",
    "#     for all other users:\n",
    "#           predict rating for this movie and this user using t4d\n",
    "#  return the top-k movies\n",
    "def recommend_movies_ucf(user_rating_hash, all_user_ids, input_user_id, k=10, min_common_movies=5):\n",
    "    predicted_ratings = []\n",
    "    \n",
    "    #Your code here\n",
    "    for movie in [m for m in all_movie_names if m not in user_rating_hash[input_user_id]]:\n",
    "        predicted_ratings.append(( predict_rating_for_movie_ucf(user_rating_hash, input_user_id, movie, all_user_ids, min_common_movies),\n",
    "                                          movie))\n",
    "    \n",
    "    return sorted(predicted_ratings, reverse=True)[:k]"
   ]
  },
  {
   "cell_type": "code",
   "execution_count": 119,
   "metadata": {
    "collapsed": false
   },
   "outputs": [
    {
     "name": "stdout",
     "output_type": "stream",
     "text": [
      "[(5.0000000000000009, 'Saint of Fort Washington, The (1993)'), (5.0, 'They Made Me a Criminal (1939)'), (5.0, \"Someone Else's America (1995)\"), (5.0, 'Santa with Muscles (1996)'), (5.0, 'Prefontaine (1997)'), (5.0, 'Marlene Dietrich: Shadow and Light (1996) '), (5.0, 'Little City (1998)'), (5.0, 'Great Day in Harlem, A (1994)'), (5.0, 'Entertaining Angels: The Dorothy Day Story (1996)'), (5.0, 'Aiqing wansui (1994)')]\n",
      "[(5.0000000000000009, 'Prefontaine (1997)'), (5.0, 'They Made Me a Criminal (1939)'), (5.0, 'Star Kid (1997)'), (5.0, \"Someone Else's America (1995)\"), (5.0, 'Santa with Muscles (1996)'), (5.0, 'Saint of Fort Washington, The (1993)'), (5.0, 'Marlene Dietrich: Shadow and Light (1996) '), (5.0, 'Great Day in Harlem, A (1994)'), (5.0, 'Entertaining Angels: The Dorothy Day Story (1996)'), (5.0, 'Aiqing wansui (1994)')]\n",
      "[(5.0, 'Tough and Deadly (1995)'), (5.0, 'Star Kid (1997)'), (5.0, 'Santa with Muscles (1996)'), (5.0, 'Saint of Fort Washington, The (1993)'), (5.0, 'Marlene Dietrich: Shadow and Light (1996) '), (5.0, 'Great Day in Harlem, A (1994)'), (5.0, 'Entertaining Angels: The Dorothy Day Story (1996)'), (5.0, 'Aiqing wansui (1994)'), (4.9999999999999991, 'Prefontaine (1997)'), (4.6888446196178126, 'Anna (1996)')]\n",
      "[(5.0000000000000009, 'Prefontaine (1997)'), (5.0, 'Star Kid (1997)'), (5.0, \"Someone Else's America (1995)\"), (5.0, 'Santa with Muscles (1996)'), (5.0, 'Saint of Fort Washington, The (1993)'), (5.0, 'Marlene Dietrich: Shadow and Light (1996) '), (5.0, 'Little City (1998)'), (5.0, 'Great Day in Harlem, A (1994)'), (4.6385142554001959, 'Leading Man, The (1996)'), (4.6325248550982909, 'Crossfire (1947)')]\n"
     ]
    }
   ],
   "source": [
    "#Do not change below\n",
    "all_user_ids = range(1, 943+1)\n",
    "\n",
    "for user_id in range(1, 5):\n",
    "    print recommend_movies_ucf(user_rating_hash, all_user_ids, user_id, k=10, min_common_movies=5)"
   ]
  },
  {
   "cell_type": "markdown",
   "metadata": {},
   "source": [
    "#Task 5: Latent Factor Models\n",
    "\n",
    "In this task, let us try to find the simplest SVD based latent factor model."
   ]
  },
  {
   "cell_type": "code",
   "execution_count": 70,
   "metadata": {
    "collapsed": false
   },
   "outputs": [],
   "source": [
    "number_of_users = 943\n",
    "number_of_movies = 1682\n",
    "\n",
    "ratings_matrix = sp.sparse.lil_matrix((number_of_users, number_of_movies))\n",
    "\n"
   ]
  },
  {
   "cell_type": "code",
   "execution_count": 75,
   "metadata": {
    "collapsed": false
   },
   "outputs": [],
   "source": [
    "#Task t5a: This task requires a different data structure and hence different from prior tasks.\n",
    "# Here is the high level idea:\n",
    "#  - Create a sparse matrix of type lil_matrix \n",
    "#  - populate it with the data from ratings file\n",
    "#  - if user id i gave movie id j with a rating r, set matrix[i-1,j-1] to r \n",
    "# ie rows=users, col=movies\n",
    "# Hint: If you are reading it from file, note that Python treats the data from file as a string\n",
    "# so you might want to convert them to integer before inserting them.\n",
    "with open(\"ml-100k/u.data\",\"r\") as f:\n",
    "    for line in f:\n",
    "        user_id, movie_id, rating, timestamp = line.split(\"\\t\")\n",
    "        ratings_matrix[ int(user_id)-1, int(movie_id)-1] = int(rating)"
   ]
  },
  {
   "cell_type": "code",
   "execution_count": 79,
   "metadata": {
    "collapsed": false
   },
   "outputs": [
    {
     "name": "stdout",
     "output_type": "stream",
     "text": [
      "Matrix shape is (943, 1682)\n",
      "Number of non zero values 158695\n",
      "Number of non zero values (array([  0,   0,   0, ..., 942, 942, 942], dtype=int32), array([   0,    1,    2, ..., 1187, 1227, 1329], dtype=int32))\n"
     ]
    }
   ],
   "source": [
    "print \"Matrix shape is\", ratings_matrix.shape\n",
    "print \"Number of non zero values\", ratings_matrix.nnz\n",
    "print \"Number of non zero values\", ratings_matrix.nonzero()"
   ]
  },
  {
   "cell_type": "code",
   "execution_count": 80,
   "metadata": {
    "collapsed": true
   },
   "outputs": [],
   "source": [
    "#Task t5b:\n",
    "# Perform SVD on the ratings matrix\n",
    "# Hint use the svds function imported above and not svd \n",
    "# K is the number of factors to have\n",
    "def perform_svd(ratings_matrix, K=100):\n",
    "    U, S, V = None, None, None\n",
    "    return U, S, V"
   ]
  },
  {
   "cell_type": "code",
   "execution_count": 81,
   "metadata": {
    "collapsed": true
   },
   "outputs": [],
   "source": [
    "#Task t5c:\n",
    "# Note that S is is an array and not a matrix\n",
    "# Create a diagonal matrix where the diagonal matrix is populated from S\n",
    "# For eg, if S = 2,4, 8\n",
    "# then output must be\n",
    "#  2 0 0\n",
    "#  0 4 0\n",
    "#  0 0 8\n",
    "\n",
    "def construct_diagonal_matrix(S):\n",
    "    return None"
   ]
  },
  {
   "cell_type": "code",
   "execution_count": 83,
   "metadata": {
    "collapsed": false
   },
   "outputs": [],
   "source": [
    "#Task t5d: \n",
    "# We are now going to reconstruct the matrix from the SVD that we have got\n",
    "# new matrix = U S V \n",
    "# But its shape will be different as we only used the top-k factors\n",
    "def reconstruct_low_rank_matrix(U, S, V):\n",
    "    return None"
   ]
  },
  {
   "cell_type": "code",
   "execution_count": 84,
   "metadata": {
    "collapsed": true
   },
   "outputs": [],
   "source": [
    "#Task t5e:\n",
    "# Using the reconstructed matrix, predict the rating of user to a movie\n",
    "def predict_rating_svd(user_id, movie_id):\n",
    "    return 0.0"
   ]
  }
 ],
 "metadata": {
  "kernelspec": {
   "display_name": "Python 2",
   "language": "python",
   "name": "python2"
  },
  "language_info": {
   "codemirror_mode": {
    "name": "ipython",
    "version": 2
   },
   "file_extension": ".py",
   "mimetype": "text/x-python",
   "name": "python",
   "nbconvert_exporter": "python",
   "pygments_lexer": "ipython2",
   "version": "2.7.8"
  }
 },
 "nbformat": 4,
 "nbformat_minor": 0
}
